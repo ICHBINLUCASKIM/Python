{
 "cells": [
  {
   "cell_type": "markdown",
   "id": "8392910f",
   "metadata": {},
   "source": [
    "# Let's practice python\n",
    "\n",
    "Python, it's not hard to learn. just type and repeat it."
   ]
  },
  {
   "cell_type": "markdown",
   "id": "b82b181a",
   "metadata": {},
   "source": [
    "\n",
    "* What does a computer do\n",
    "\n",
    "calculation \n",
    "\n",
    "Remember result\n",
    "\n",
    "computer only know what you tell them"
   ]
  },
  {
   "cell_type": "markdown",
   "id": "6ad1e8f6",
   "metadata": {},
   "source": [
    "* Types of knowledge\n",
    "\n",
    "declarative knowledge: statement of fact\n",
    "\n",
    "imperative knowledge: recipe / how-to"
   ]
  },
  {
   "cell_type": "markdown",
   "id": "cc24296f",
   "metadata": {},
   "source": [
    "* Basic machine architecture\n",
    "\n",
    "Memory/ Control Unit / Arithmetic Logic Unit\n",
    "\n",
    "**important thing is understanding the processing steps**"
   ]
  },
  {
   "cell_type": "markdown",
   "id": "db51d3bd",
   "metadata": {},
   "source": [
    "* Stored Programming computer\n",
    "\n",
    "instruction stored : 1. Arithmetic and logic, 2. Simple test, 3. Moving data"
   ]
  },
  {
   "cell_type": "markdown",
   "id": "d74b8838",
   "metadata": {},
   "source": [
    "* Basic primitives\n",
    "\n",
    "6 primitives: move left, move right, read, write, scan, do nothing\n",
    "\n",
    "**But we don’t have to use only these commands. Because modern programming languages have more convinced set of primitives.**\n"
   ]
  },
  {
   "cell_type": "markdown",
   "id": "aa62499e",
   "metadata": {},
   "source": [
    "* Objects\n",
    "\n",
    "scalar : cannot be subdivided, ex) int - integers, float - real numbers, Bool - boolean, None-type\n",
    "\n",
    "Non-scalar : have some internal structure, ex) list …etc\n"
   ]
  },
  {
   "cell_type": "markdown",
   "id": "531009fa",
   "metadata": {},
   "source": [
    "* Variables & value\n",
    "\n",
    "pi(variable) = 3.14(value)\n",
    "\n",
    "value is stored in computer memory\n",
    "\n",
    "Variable is a kind of ‘post-it’"
   ]
  },
  {
   "cell_type": "markdown",
   "id": "9adb10fb",
   "metadata": {},
   "source": [
    "## 1. about Numbers"
   ]
  },
  {
   "cell_type": "markdown",
   "id": "62e49ca2",
   "metadata": {},
   "source": [
    "int(): integers"
   ]
  },
  {
   "cell_type": "code",
   "execution_count": 1,
   "id": "7185a2fc",
   "metadata": {},
   "outputs": [
    {
     "data": {
      "text/plain": [
       "1000"
      ]
     },
     "execution_count": 1,
     "metadata": {},
     "output_type": "execute_result"
    }
   ],
   "source": [
    "a = 1000\n",
    "a"
   ]
  },
  {
   "cell_type": "code",
   "execution_count": 2,
   "id": "38a5fd24",
   "metadata": {},
   "outputs": [
    {
     "data": {
      "text/plain": [
       "-7"
      ]
     },
     "execution_count": 2,
     "metadata": {},
     "output_type": "execute_result"
    }
   ],
   "source": [
    "b = -7\n",
    "b"
   ]
  },
  {
   "cell_type": "code",
   "execution_count": 3,
   "id": "87aef358",
   "metadata": {},
   "outputs": [
    {
     "data": {
      "text/plain": [
       "0"
      ]
     },
     "execution_count": 3,
     "metadata": {},
     "output_type": "execute_result"
    }
   ],
   "source": [
    "c = 0\n",
    "c"
   ]
  },
  {
   "cell_type": "markdown",
   "id": "50e16948",
   "metadata": {},
   "source": [
    "float(): Real Numbers"
   ]
  },
  {
   "cell_type": "code",
   "execution_count": 4,
   "id": "2c26b8fa",
   "metadata": {},
   "outputs": [
    {
     "data": {
      "text/plain": [
       "7.11"
      ]
     },
     "execution_count": 4,
     "metadata": {},
     "output_type": "execute_result"
    }
   ],
   "source": [
    "a = 7.11\n",
    "a"
   ]
  },
  {
   "cell_type": "code",
   "execution_count": 6,
   "id": "1ee3dcc2",
   "metadata": {},
   "outputs": [
    {
     "data": {
      "text/plain": [
       "-6.97"
      ]
     },
     "execution_count": 6,
     "metadata": {},
     "output_type": "execute_result"
    }
   ],
   "source": [
    "b = - 6.97\n",
    "b"
   ]
  },
  {
   "cell_type": "markdown",
   "id": "cd913f76",
   "metadata": {},
   "source": [
    "You don't need to type 0 "
   ]
  },
  {
   "cell_type": "code",
   "execution_count": 8,
   "id": "81a44544",
   "metadata": {},
   "outputs": [
    {
     "data": {
      "text/plain": [
       "5.0"
      ]
     },
     "execution_count": 8,
     "metadata": {},
     "output_type": "execute_result"
    }
   ],
   "source": [
    "c = 5.\n",
    "c"
   ]
  },
  {
   "cell_type": "code",
   "execution_count": 9,
   "id": "c99bd05d",
   "metadata": {},
   "outputs": [
    {
     "data": {
      "text/plain": [
       "-0.99"
      ]
     },
     "execution_count": 9,
     "metadata": {},
     "output_type": "execute_result"
    }
   ],
   "source": [
    "d = -.99\n",
    "d"
   ]
  },
  {
   "cell_type": "markdown",
   "id": "56c11092",
   "metadata": {},
   "source": [
    "+ more details about float()\n",
    "\n",
    "Computer systems have limit when express real number.\n",
    "\n",
    "for example\n",
    "\n",
    "when we use binary, there is no way to express 0.9 precisely. Like this.\n",
    "\n",
    "\n"
   ]
  },
  {
   "cell_type": "code",
   "execution_count": 13,
   "id": "84df5bd2",
   "metadata": {},
   "outputs": [
    {
     "data": {
      "text/plain": [
       "0.8999999999999999"
      ]
     },
     "execution_count": 13,
     "metadata": {},
     "output_type": "execute_result"
    }
   ],
   "source": [
    "a = 0.3 + 0.6\n",
    "a"
   ]
  },
  {
   "cell_type": "code",
   "execution_count": 14,
   "id": "9ab14b57",
   "metadata": {},
   "outputs": [
    {
     "name": "stdout",
     "output_type": "stream",
     "text": [
      "False\n"
     ]
    }
   ],
   "source": [
    "if a == 0.9:\n",
    "    print(True)\n",
    "else:\n",
    "    print(False)"
   ]
  },
  {
   "cell_type": "markdown",
   "id": "3bab2b2e",
   "metadata": {},
   "source": [
    "How to write 'exponent'\n",
    "\n",
    "number after e / E, it means exponent of 10\n",
    "\n",
    "Let's see"
   ]
  },
  {
   "cell_type": "code",
   "execution_count": 10,
   "id": "8359e0d9",
   "metadata": {},
   "outputs": [
    {
     "data": {
      "text/plain": [
       "1000000000.0"
      ]
     },
     "execution_count": 10,
     "metadata": {},
     "output_type": "execute_result"
    }
   ],
   "source": [
    "a = 1e9\n",
    "a"
   ]
  },
  {
   "cell_type": "code",
   "execution_count": 11,
   "id": "64271aec",
   "metadata": {},
   "outputs": [
    {
     "data": {
      "text/plain": [
       "752.5"
      ]
     },
     "execution_count": 11,
     "metadata": {},
     "output_type": "execute_result"
    }
   ],
   "source": [
    "b = 75.25e1\n",
    "b"
   ]
  },
  {
   "cell_type": "code",
   "execution_count": 12,
   "id": "8efcad87",
   "metadata": {},
   "outputs": [
    {
     "data": {
      "text/plain": [
       "3.954"
      ]
     },
     "execution_count": 12,
     "metadata": {},
     "output_type": "execute_result"
    }
   ],
   "source": [
    "c = 3954e-3\n",
    "c"
   ]
  },
  {
   "cell_type": "markdown",
   "id": "aa3d161a",
   "metadata": {},
   "source": [
    "* funtions about numbers"
   ]
  },
  {
   "cell_type": "markdown",
   "id": "5aef240a",
   "metadata": {},
   "source": [
    "round(): literally round, round off"
   ]
  },
  {
   "cell_type": "code",
   "execution_count": 15,
   "id": "838fa0dc",
   "metadata": {},
   "outputs": [
    {
     "data": {
      "text/plain": [
       "123.46"
      ]
     },
     "execution_count": 15,
     "metadata": {},
     "output_type": "execute_result"
    }
   ],
   "source": [
    "a = 123.456\n",
    "round(a, 2) # round at second decimal place"
   ]
  },
  {
   "cell_type": "code",
   "execution_count": 17,
   "id": "4b8a489b",
   "metadata": {
    "scrolled": true
   },
   "outputs": [
    {
     "name": "stdout",
     "output_type": "stream",
     "text": [
      "True\n"
     ]
    }
   ],
   "source": [
    "# applied example\n",
    "a = 0.3 + 0.6\n",
    "\n",
    "if round(a, 4) == 0.9:\n",
    "    print(True)\n",
    "else:\n",
    "    print(False)"
   ]
  },
  {
   "cell_type": "markdown",
   "id": "50838c9c",
   "metadata": {},
   "source": [
    "* Operators on ints and floats\n"
   ]
  },
  {
   "cell_type": "markdown",
   "id": "060096d0",
   "metadata": {},
   "source": [
    "i + j : sum\n",
    "\n",
    "i - j : difference \n",
    "\n",
    "i * j : product \n",
    "\n",
    "i / j : division\n",
    "\n",
    "i % j : reminder\n",
    "\n",
    "i ** j : power\n",
    "\n",
    "i // j : quotient\n"
   ]
  },
  {
   "cell_type": "code",
   "execution_count": 26,
   "id": "d47faa57",
   "metadata": {},
   "outputs": [],
   "source": [
    "a = 7\n",
    "b = 3"
   ]
  },
  {
   "cell_type": "code",
   "execution_count": 27,
   "id": "590e4cae",
   "metadata": {},
   "outputs": [
    {
     "data": {
      "text/plain": [
       "10"
      ]
     },
     "execution_count": 27,
     "metadata": {},
     "output_type": "execute_result"
    }
   ],
   "source": [
    "a + b"
   ]
  },
  {
   "cell_type": "code",
   "execution_count": 28,
   "id": "6387f4b8",
   "metadata": {},
   "outputs": [
    {
     "data": {
      "text/plain": [
       "4"
      ]
     },
     "execution_count": 28,
     "metadata": {},
     "output_type": "execute_result"
    }
   ],
   "source": [
    "a - b"
   ]
  },
  {
   "cell_type": "code",
   "execution_count": 29,
   "id": "15795601",
   "metadata": {},
   "outputs": [
    {
     "data": {
      "text/plain": [
       "21"
      ]
     },
     "execution_count": 29,
     "metadata": {},
     "output_type": "execute_result"
    }
   ],
   "source": [
    "a * b"
   ]
  },
  {
   "cell_type": "code",
   "execution_count": 30,
   "id": "f29eab02",
   "metadata": {},
   "outputs": [
    {
     "data": {
      "text/plain": [
       "2.3333333333333335"
      ]
     },
     "execution_count": 30,
     "metadata": {},
     "output_type": "execute_result"
    }
   ],
   "source": [
    "a / b"
   ]
  },
  {
   "cell_type": "code",
   "execution_count": 31,
   "id": "7c352014",
   "metadata": {},
   "outputs": [
    {
     "data": {
      "text/plain": [
       "1"
      ]
     },
     "execution_count": 31,
     "metadata": {},
     "output_type": "execute_result"
    }
   ],
   "source": [
    "a % b"
   ]
  },
  {
   "cell_type": "code",
   "execution_count": 32,
   "id": "ff961ea9",
   "metadata": {},
   "outputs": [
    {
     "data": {
      "text/plain": [
       "343"
      ]
     },
     "execution_count": 32,
     "metadata": {},
     "output_type": "execute_result"
    }
   ],
   "source": [
    "a ** b"
   ]
  },
  {
   "cell_type": "code",
   "execution_count": 33,
   "id": "b48721b6",
   "metadata": {},
   "outputs": [
    {
     "data": {
      "text/plain": [
       "2"
      ]
     },
     "execution_count": 33,
     "metadata": {},
     "output_type": "execute_result"
    }
   ],
   "source": [
    "a // b"
   ]
  },
  {
   "cell_type": "markdown",
   "id": "36ecc7bd",
   "metadata": {},
   "source": [
    "## 2. List"
   ]
  },
  {
   "cell_type": "markdown",
   "id": "28fbb0e9",
   "metadata": {},
   "source": [
    "Lists are used to store multiple items in a single variable, and one of 4 built-in data types in Python used to store collections of data, the other 3 are Tuple, Set, and Dictionary, all with different qualities and usage\n",
    "\n",
    "List items are ordered, changeable, and allow duplicate values.\n",
    "\n",
    "List items are indexed, the first item has index [0], the second item has index [1] etc."
   ]
  },
  {
   "cell_type": "code",
   "execution_count": 36,
   "id": "cf933a15",
   "metadata": {},
   "outputs": [],
   "source": [
    "# we can make a list like this\n",
    "a = list()\n",
    "b = [] "
   ]
  },
  {
   "cell_type": "code",
   "execution_count": 37,
   "id": "209d9b49",
   "metadata": {},
   "outputs": [
    {
     "data": {
      "text/plain": [
       "[1, 2, 3, 4, 5, 6, 7, 8, 9]"
      ]
     },
     "execution_count": 37,
     "metadata": {},
     "output_type": "execute_result"
    }
   ],
   "source": [
    "# elements are divided by ','\n",
    "a = [1, 2, 3, 4, 5, 6, 7, 8, 9]\n",
    "a"
   ]
  },
  {
   "cell_type": "code",
   "execution_count": 38,
   "id": "b43e1618",
   "metadata": {
    "scrolled": false
   },
   "outputs": [
    {
     "data": {
      "text/plain": [
       "4"
      ]
     },
     "execution_count": 38,
     "metadata": {},
     "output_type": "execute_result"
    }
   ],
   "source": [
    "a[3]"
   ]
  },
  {
   "cell_type": "code",
   "execution_count": 39,
   "id": "58d82c67",
   "metadata": {},
   "outputs": [
    {
     "data": {
      "text/plain": [
       "[0, 0, 0, 0, 0, 0, 0, 0, 0, 0]"
      ]
     },
     "execution_count": 39,
     "metadata": {},
     "output_type": "execute_result"
    }
   ],
   "source": [
    "# appliction\n",
    "n = 10\n",
    "a = [0] * 10\n",
    "a"
   ]
  },
  {
   "cell_type": "code",
   "execution_count": 41,
   "id": "430dae54",
   "metadata": {},
   "outputs": [
    {
     "data": {
      "text/plain": [
       "[0, 0, 0, 0, 0, 5, 0, 0, 0, 0]"
      ]
     },
     "execution_count": 41,
     "metadata": {},
     "output_type": "execute_result"
    }
   ],
   "source": [
    "# changeable\n",
    "a[5] = 5\n",
    "a"
   ]
  },
  {
   "cell_type": "markdown",
   "id": "2351874e",
   "metadata": {},
   "source": [
    "* indexing\n",
    "\n",
    "A way to find an element of list "
   ]
  },
  {
   "cell_type": "markdown",
   "id": "ee7d88d5",
   "metadata": {},
   "source": [
    "* indexing"
   ]
  },
  {
   "cell_type": "code",
   "execution_count": null,
   "id": "dfb8b8e0",
   "metadata": {},
   "outputs": [],
   "source": []
  },
  {
   "cell_type": "code",
   "execution_count": 42,
   "id": "19e03665",
   "metadata": {},
   "outputs": [
    {
     "data": {
      "text/plain": [
       "[1, 2, 3, 4, 5, 6, 7, 8, 9]"
      ]
     },
     "execution_count": 42,
     "metadata": {},
     "output_type": "execute_result"
    }
   ],
   "source": [
    "# elements are divided by ','\n",
    "a = [1, 2, 3, 4, 5, 6, 7, 8, 9]\n",
    "a"
   ]
  },
  {
   "cell_type": "code",
   "execution_count": 43,
   "id": "26f65b40",
   "metadata": {
    "scrolled": false
   },
   "outputs": [
    {
     "data": {
      "text/plain": [
       "4"
      ]
     },
     "execution_count": 43,
     "metadata": {},
     "output_type": "execute_result"
    }
   ],
   "source": [
    "a[3]"
   ]
  },
  {
   "cell_type": "markdown",
   "id": "b1c58dcb",
   "metadata": {},
   "source": []
  },
  {
   "cell_type": "code",
   "execution_count": 47,
   "id": "078e5fff",
   "metadata": {},
   "outputs": [
    {
     "data": {
      "text/plain": [
       "9"
      ]
     },
     "execution_count": 47,
     "metadata": {},
     "output_type": "execute_result"
    }
   ],
   "source": [
    "a[-1] # third from the back"
   ]
  },
  {
   "cell_type": "code",
   "execution_count": 46,
   "id": "54fabbfe",
   "metadata": {},
   "outputs": [
    {
     "data": {
      "text/plain": [
       "7"
      ]
     },
     "execution_count": 46,
     "metadata": {},
     "output_type": "execute_result"
    }
   ],
   "source": [
    "a[-3] # fouth from the back"
   ]
  },
  {
   "cell_type": "markdown",
   "id": "fe9f2897",
   "metadata": {},
   "source": [
    "* slicing\n",
    "\n",
    "A way to find elements of list\n",
    "\n",
    "we can set first index and the last index by using ':'"
   ]
  },
  {
   "cell_type": "code",
   "execution_count": 50,
   "id": "03225744",
   "metadata": {},
   "outputs": [
    {
     "data": {
      "text/plain": [
       "[2, 3, 4]"
      ]
     },
     "execution_count": 50,
     "metadata": {},
     "output_type": "execute_result"
    }
   ],
   "source": [
    "a[1:4] # from second to fourth"
   ]
  },
  {
   "cell_type": "code",
   "execution_count": 52,
   "id": "98b25eee",
   "metadata": {},
   "outputs": [
    {
     "data": {
      "text/plain": [
       "[1, 2, 3, 4, 5, 6, 7, 8, 9]"
      ]
     },
     "execution_count": 52,
     "metadata": {},
     "output_type": "execute_result"
    }
   ],
   "source": [
    "a[0:] # from the first to the end"
   ]
  },
  {
   "cell_type": "code",
   "execution_count": 68,
   "id": "f75c3356",
   "metadata": {},
   "outputs": [
    {
     "data": {
      "text/plain": [
       "[1, 2, 3, 4, 5, 6, 7, 8]"
      ]
     },
     "execution_count": 68,
     "metadata": {},
     "output_type": "execute_result"
    }
   ],
   "source": [
    "a[:-1] # from the end -1 element to the first"
   ]
  },
  {
   "cell_type": "code",
   "execution_count": 71,
   "id": "c5786709",
   "metadata": {},
   "outputs": [
    {
     "data": {
      "text/plain": [
       "[1, 3, 5, 7]"
      ]
     },
     "execution_count": 71,
     "metadata": {},
     "output_type": "execute_result"
    }
   ],
   "source": [
    "a[0:8:2] # period is two"
   ]
  },
  {
   "cell_type": "markdown",
   "id": "31e9befd",
   "metadata": {},
   "source": [
    "* List Comprehension\n",
    "\n",
    "very useful when set n * m scale of second dimentional list"
   ]
  },
  {
   "cell_type": "code",
   "execution_count": 72,
   "id": "b17f149b",
   "metadata": {},
   "outputs": [
    {
     "data": {
      "text/plain": [
       "[0, 1, 2, 3, 4, 5, 6, 7, 8, 9]"
      ]
     },
     "execution_count": 72,
     "metadata": {},
     "output_type": "execute_result"
    }
   ],
   "source": [
    "array = [ i for i in range(10)]\n",
    "array"
   ]
  },
  {
   "cell_type": "code",
   "execution_count": 73,
   "id": "0914c704",
   "metadata": {},
   "outputs": [
    {
     "data": {
      "text/plain": [
       "[1, 3, 5, 7, 9, 11, 13, 15, 17, 19]"
      ]
     },
     "execution_count": 73,
     "metadata": {},
     "output_type": "execute_result"
    }
   ],
   "source": [
    "array = [i for i in range(20) if i % 2 == 1] # list of odd in 20\n",
    "array"
   ]
  },
  {
   "cell_type": "code",
   "execution_count": 74,
   "id": "00cae709",
   "metadata": {},
   "outputs": [
    {
     "data": {
      "text/plain": [
       "[1, 4, 9, 16, 25, 36, 49, 64, 81]"
      ]
     },
     "execution_count": 74,
     "metadata": {},
     "output_type": "execute_result"
    }
   ],
   "source": [
    "array = [i * i for i in range(1,10)] # square of 1 to 9\n",
    "array"
   ]
  },
  {
   "cell_type": "code",
   "execution_count": 75,
   "id": "bd5ea0bf",
   "metadata": {},
   "outputs": [
    {
     "data": {
      "text/plain": [
       "[[0, 0, 0], [0, 0, 0], [0, 0, 0], [0, 0, 0]]"
      ]
     },
     "execution_count": 75,
     "metadata": {},
     "output_type": "execute_result"
    }
   ],
   "source": [
    "# second dimentional\n",
    "n = 4\n",
    "m = 3\n",
    "array = [[0] * m for _ in range(n)]\n",
    "array"
   ]
  },
  {
   "cell_type": "code",
   "execution_count": 76,
   "id": "91adcc47",
   "metadata": {},
   "outputs": [
    {
     "data": {
      "text/plain": [
       "[[0, 0, 0], [0, 0, 0], [0, 0, 0], [0, 0, 0]]"
      ]
     },
     "execution_count": 76,
     "metadata": {},
     "output_type": "execute_result"
    }
   ],
   "source": [
    "#wrong version\n",
    "array = [[0] * m] * n\n",
    "array"
   ]
  },
  {
   "cell_type": "code",
   "execution_count": 78,
   "id": "c7fab489",
   "metadata": {},
   "outputs": [
    {
     "data": {
      "text/plain": [
       "[[0, 5, 0], [0, 5, 0], [0, 5, 0], [0, 5, 0]]"
      ]
     },
     "execution_count": 78,
     "metadata": {},
     "output_type": "execute_result"
    }
   ],
   "source": [
    "array[1][1] = 5\n",
    "array"
   ]
  },
  {
   "cell_type": "markdown",
   "id": "39db24da",
   "metadata": {},
   "source": [
    "* when we use '_ , underbar'?\n",
    "\n",
    "we often use when ignore repeated variable"
   ]
  },
  {
   "cell_type": "code",
   "execution_count": 80,
   "id": "6b960495",
   "metadata": {},
   "outputs": [
    {
     "data": {
      "text/plain": [
       "45"
      ]
     },
     "execution_count": 80,
     "metadata": {},
     "output_type": "execute_result"
    }
   ],
   "source": [
    "summary = 0\n",
    "for i in range(1, 10):\n",
    "    summary += i\n",
    "    \n",
    "summary"
   ]
  },
  {
   "cell_type": "code",
   "execution_count": 82,
   "id": "b04c369d",
   "metadata": {},
   "outputs": [
    {
     "name": "stdout",
     "output_type": "stream",
     "text": [
      "Hello world\n",
      "Hello world\n",
      "Hello world\n",
      "Hello world\n",
      "Hello world\n"
     ]
    }
   ],
   "source": [
    "for _ in range(5):\n",
    "    print(\"Hello world\")"
   ]
  },
  {
   "cell_type": "markdown",
   "id": "63afcb8f",
   "metadata": {},
   "source": [
    "* another method"
   ]
  },
  {
   "cell_type": "code",
   "execution_count": 83,
   "id": "03ab52bb",
   "metadata": {},
   "outputs": [
    {
     "data": {
      "text/plain": [
       "[1, 2, 3, 4, 5, 6]"
      ]
     },
     "execution_count": 83,
     "metadata": {},
     "output_type": "execute_result"
    }
   ],
   "source": [
    "#append() : add an element in the list\n",
    "a = [1, 2, 3, 4, 5]\n",
    "a.append(6)\n",
    "a"
   ]
  },
  {
   "cell_type": "code",
   "execution_count": 86,
   "id": "f6bc157b",
   "metadata": {},
   "outputs": [
    {
     "data": {
      "text/plain": [
       "[1, 2, 3, 4, 5, 6]"
      ]
     },
     "execution_count": 86,
     "metadata": {},
     "output_type": "execute_result"
    }
   ],
   "source": [
    "#sort() : sort in ascending order\n",
    "a.sort()\n",
    "a"
   ]
  },
  {
   "cell_type": "code",
   "execution_count": 88,
   "id": "9f4a745f",
   "metadata": {},
   "outputs": [
    {
     "data": {
      "text/plain": [
       "[6, 5, 4, 3, 2, 1]"
      ]
     },
     "execution_count": 88,
     "metadata": {},
     "output_type": "execute_result"
    }
   ],
   "source": [
    "a.sort(reverse = True) # sort in descending order\n",
    "a"
   ]
  },
  {
   "cell_type": "code",
   "execution_count": 91,
   "id": "7a3789e2",
   "metadata": {},
   "outputs": [],
   "source": [
    "#reverse() : reverse ordre of list\n",
    "a.reverse()"
   ]
  },
  {
   "cell_type": "code",
   "execution_count": 92,
   "id": "95b816cf",
   "metadata": {},
   "outputs": [
    {
     "data": {
      "text/plain": [
       "[1, 2, 3, 4, 5, 6]"
      ]
     },
     "execution_count": 92,
     "metadata": {},
     "output_type": "execute_result"
    }
   ],
   "source": [
    "a"
   ]
  },
  {
   "cell_type": "code",
   "execution_count": 93,
   "id": "c1619167",
   "metadata": {},
   "outputs": [
    {
     "data": {
      "text/plain": [
       "[1, 2, 3, 4, 3, 5, 6]"
      ]
     },
     "execution_count": 93,
     "metadata": {},
     "output_type": "execute_result"
    }
   ],
   "source": [
    "# insert() : insert an element in specific location\n",
    "a.insert(4, 3) #(location, inserted value)\n",
    "a"
   ]
  },
  {
   "cell_type": "code",
   "execution_count": 94,
   "id": "6d3679f1",
   "metadata": {},
   "outputs": [
    {
     "data": {
      "text/plain": [
       "2"
      ]
     },
     "execution_count": 94,
     "metadata": {},
     "output_type": "execute_result"
    }
   ],
   "source": [
    "# count() : used for counting, find the number of specific element\n",
    "a.count(3)"
   ]
  },
  {
   "cell_type": "code",
   "execution_count": 96,
   "id": "9709991c",
   "metadata": {},
   "outputs": [
    {
     "data": {
      "text/plain": [
       "[1, 2, 4, 5, 6]"
      ]
     },
     "execution_count": 96,
     "metadata": {},
     "output_type": "execute_result"
    }
   ],
   "source": [
    "# remove : remove element\n",
    "a.remove(3)\n",
    "a"
   ]
  },
  {
   "cell_type": "markdown",
   "id": "2fe36a05",
   "metadata": {},
   "source": [
    "## 3. String data type"
   ]
  },
  {
   "cell_type": "markdown",
   "id": "19599eb8",
   "metadata": {},
   "source": [
    "Strings: letters, special characters, spaces, digits"
   ]
  },
  {
   "cell_type": "code",
   "execution_count": 98,
   "id": "d4a18a82",
   "metadata": {},
   "outputs": [
    {
     "data": {
      "text/plain": [
       "'Hello world'"
      ]
     },
     "execution_count": 98,
     "metadata": {},
     "output_type": "execute_result"
    }
   ],
   "source": [
    "data = 'Hello world'\n",
    "data"
   ]
  },
  {
   "cell_type": "code",
   "execution_count": 101,
   "id": "c7c4e46a",
   "metadata": {},
   "outputs": [
    {
     "data": {
      "text/plain": [
       "'Don\\'t you know \"python\"?'"
      ]
     },
     "execution_count": 101,
     "metadata": {},
     "output_type": "execute_result"
    }
   ],
   "source": [
    "data = \"Don't you know \\\"python\\\"?\"\n",
    "data"
   ]
  },
  {
   "cell_type": "markdown",
   "id": "b79c44cd",
   "metadata": {},
   "source": [
    "when doing concatenation with two strings, there’s no space.\n",
    "\n",
    "So we have to insert space as manually like ‘hi + “ “ + name’\n",
    "\n",
    "If you use ‘,’ instead of space, then it makes space between two values\n",
    "\n",
    "String cannot change specific index"
   ]
  },
  {
   "cell_type": "code",
   "execution_count": 103,
   "id": "69fa58a9",
   "metadata": {},
   "outputs": [
    {
     "data": {
      "text/plain": [
       "'Helloworld'"
      ]
     },
     "execution_count": 103,
     "metadata": {},
     "output_type": "execute_result"
    }
   ],
   "source": [
    "a = 'Hello'\n",
    "b = 'world'\n",
    "a + b"
   ]
  },
  {
   "cell_type": "code",
   "execution_count": 104,
   "id": "d7412368",
   "metadata": {},
   "outputs": [
    {
     "data": {
      "text/plain": [
       "'Hello world'"
      ]
     },
     "execution_count": 104,
     "metadata": {},
     "output_type": "execute_result"
    }
   ],
   "source": [
    "a + ' ' + b"
   ]
  },
  {
   "cell_type": "code",
   "execution_count": 105,
   "id": "9bf92a22",
   "metadata": {},
   "outputs": [
    {
     "data": {
      "text/plain": [
       "('Hello', 'world')"
      ]
     },
     "execution_count": 105,
     "metadata": {},
     "output_type": "execute_result"
    }
   ],
   "source": [
    "a , b"
   ]
  },
  {
   "cell_type": "code",
   "execution_count": 106,
   "id": "9967780f",
   "metadata": {},
   "outputs": [
    {
     "data": {
      "text/plain": [
       "'HelloHelloHello'"
      ]
     },
     "execution_count": 106,
     "metadata": {},
     "output_type": "execute_result"
    }
   ],
   "source": [
    "a * 3"
   ]
  },
  {
   "cell_type": "code",
   "execution_count": 107,
   "id": "15bef03a",
   "metadata": {},
   "outputs": [
    {
     "data": {
      "text/plain": [
       "'ll'"
      ]
     },
     "execution_count": 107,
     "metadata": {},
     "output_type": "execute_result"
    }
   ],
   "source": [
    "a[2:4]"
   ]
  },
  {
   "cell_type": "markdown",
   "id": "42ea18ea",
   "metadata": {},
   "source": [
    "* Tuple\n",
    "\n",
    "It's almost the same as list date type. But there is syntax difference.\n",
    "\n",
    "1. Tuple is not changeable\n",
    "\n",
    "2. list use '[]' but tuple use '()'\n",
    "\n",
    "You can use tuple in this situation.\n",
    "\n",
    "* when manageing data that have different type\n",
    "\n",
    "* when you need Hashing key"
   ]
  },
  {
   "cell_type": "code",
   "execution_count": 1,
   "id": "61ca9a78",
   "metadata": {},
   "outputs": [],
   "source": [
    "a = (1, 2, 333, 4, 5, 6, 7, 8, 9)"
   ]
  },
  {
   "cell_type": "code",
   "execution_count": 3,
   "id": "2abb5f8c",
   "metadata": {},
   "outputs": [
    {
     "data": {
      "text/plain": [
       "4"
      ]
     },
     "execution_count": 3,
     "metadata": {},
     "output_type": "execute_result"
    }
   ],
   "source": [
    "a[3]"
   ]
  },
  {
   "cell_type": "code",
   "execution_count": 110,
   "id": "2079d728",
   "metadata": {},
   "outputs": [
    {
     "data": {
      "text/plain": [
       "(2, 3, 4)"
      ]
     },
     "execution_count": 110,
     "metadata": {},
     "output_type": "execute_result"
    }
   ],
   "source": [
    "a[1:4]"
   ]
  },
  {
   "cell_type": "code",
   "execution_count": 111,
   "id": "5386c202",
   "metadata": {},
   "outputs": [
    {
     "ename": "TypeError",
     "evalue": "'tuple' object does not support item assignment",
     "output_type": "error",
     "traceback": [
      "\u001b[0;31m---------------------------------------------------------------------------\u001b[0m",
      "\u001b[0;31mTypeError\u001b[0m                                 Traceback (most recent call last)",
      "\u001b[0;32m/var/folders/mh/0fzb0n4x0tz84jgddxkskscw0000gn/T/ipykernel_53856/3080342952.py\u001b[0m in \u001b[0;36m<module>\u001b[0;34m\u001b[0m\n\u001b[0;32m----> 1\u001b[0;31m \u001b[0ma\u001b[0m\u001b[0;34m[\u001b[0m\u001b[0;36m2\u001b[0m\u001b[0;34m]\u001b[0m \u001b[0;34m=\u001b[0m \u001b[0;36m7\u001b[0m\u001b[0;34m\u001b[0m\u001b[0;34m\u001b[0m\u001b[0m\n\u001b[0m",
      "\u001b[0;31mTypeError\u001b[0m: 'tuple' object does not support item assignment"
     ]
    }
   ],
   "source": [
    "a[2] = 7"
   ]
  },
  {
   "cell_type": "markdown",
   "id": "7595cea1",
   "metadata": {},
   "source": [
    "* dictionary\n",
    "\n",
    "Data type that has 'key' and 'value'."
   ]
  },
  {
   "cell_type": "code",
   "execution_count": 116,
   "id": "41fb1cfe",
   "metadata": {},
   "outputs": [],
   "source": [
    "df = dict()\n",
    "df['apple_k'] = 'apple_v'\n",
    "df['banana_k'] = 'banana_v'\n",
    "df['coconut_k'] = 'coconut_v'"
   ]
  },
  {
   "cell_type": "code",
   "execution_count": 117,
   "id": "4a741ae4",
   "metadata": {},
   "outputs": [
    {
     "data": {
      "text/plain": [
       "{'apple_k': 'apple_v', 'banana_k': 'banana_v', 'coconut_k': 'coconut_v'}"
      ]
     },
     "execution_count": 117,
     "metadata": {},
     "output_type": "execute_result"
    }
   ],
   "source": [
    "df"
   ]
  },
  {
   "cell_type": "code",
   "execution_count": 120,
   "id": "24504789",
   "metadata": {},
   "outputs": [
    {
     "name": "stdout",
     "output_type": "stream",
     "text": [
      "There is key of apple.\n"
     ]
    }
   ],
   "source": [
    "if 'apple_k' in df:\n",
    "    print('There is key of apple.')"
   ]
  },
  {
   "cell_type": "markdown",
   "id": "a0ac12c5",
   "metadata": {},
   "source": [
    "method of dict()\n",
    "\n",
    "keys() : query key data\n",
    "\n",
    "values() : query value data\n"
   ]
  },
  {
   "cell_type": "code",
   "execution_count": 122,
   "id": "6bf0e821",
   "metadata": {},
   "outputs": [
    {
     "data": {
      "text/plain": [
       "dict_keys(['apple_k', 'banana_k', 'coconut_k'])"
      ]
     },
     "execution_count": 122,
     "metadata": {},
     "output_type": "execute_result"
    }
   ],
   "source": [
    "df.keys()"
   ]
  },
  {
   "cell_type": "code",
   "execution_count": 123,
   "id": "19ff5fbb",
   "metadata": {},
   "outputs": [
    {
     "data": {
      "text/plain": [
       "dict_values(['apple_v', 'banana_v', 'coconut_v'])"
      ]
     },
     "execution_count": 123,
     "metadata": {},
     "output_type": "execute_result"
    }
   ],
   "source": [
    "df.values()"
   ]
  },
  {
   "cell_type": "code",
   "execution_count": 125,
   "id": "083c16f9",
   "metadata": {},
   "outputs": [
    {
     "data": {
      "text/plain": [
       "['apple_k', 'banana_k', 'coconut_k']"
      ]
     },
     "execution_count": 125,
     "metadata": {},
     "output_type": "execute_result"
    }
   ],
   "source": [
    "key_list = list(df.keys())\n",
    "key_list"
   ]
  },
  {
   "cell_type": "markdown",
   "id": "dc40f03d",
   "metadata": {},
   "source": [
    "* set\n",
    "\n",
    "1. Not allowed duplication\n",
    "\n",
    "2. No order number"
   ]
  },
  {
   "cell_type": "code",
   "execution_count": 127,
   "id": "c0b00b7a",
   "metadata": {},
   "outputs": [
    {
     "data": {
      "text/plain": [
       "{1, 2, 3, 4, 5}"
      ]
     },
     "execution_count": 127,
     "metadata": {},
     "output_type": "execute_result"
    }
   ],
   "source": [
    "data = set([1, 1, 2, 3, 4, 4, 5])\n",
    "data"
   ]
  },
  {
   "cell_type": "markdown",
   "id": "35add586",
   "metadata": {},
   "source": [
    "Operations on set data types"
   ]
  },
  {
   "cell_type": "code",
   "execution_count": 145,
   "id": "11e3161b",
   "metadata": {},
   "outputs": [
    {
     "data": {
      "text/plain": [
       "{1, 2, 3, 4, 5, 6, 7}"
      ]
     },
     "execution_count": 145,
     "metadata": {},
     "output_type": "execute_result"
    }
   ],
   "source": [
    "#union\n",
    "a = set([1, 2, 3, 4, 5])\n",
    "b = set([3, 4, 5, 6, 7])\n",
    "\n",
    "a | b"
   ]
  },
  {
   "cell_type": "code",
   "execution_count": 146,
   "id": "5ac65232",
   "metadata": {},
   "outputs": [
    {
     "data": {
      "text/plain": [
       "{3, 4, 5}"
      ]
     },
     "execution_count": 146,
     "metadata": {},
     "output_type": "execute_result"
    }
   ],
   "source": [
    "#intersection\n",
    "a & b"
   ]
  },
  {
   "cell_type": "code",
   "execution_count": 147,
   "id": "42adc496",
   "metadata": {},
   "outputs": [
    {
     "data": {
      "text/plain": [
       "{1, 2}"
      ]
     },
     "execution_count": 147,
     "metadata": {},
     "output_type": "execute_result"
    }
   ],
   "source": [
    "#difference\n",
    "\n",
    "a - b"
   ]
  },
  {
   "cell_type": "code",
   "execution_count": 150,
   "id": "3a3fd279",
   "metadata": {},
   "outputs": [
    {
     "data": {
      "text/plain": [
       "{1, 2, 3, 4, 5, 6}"
      ]
     },
     "execution_count": 150,
     "metadata": {},
     "output_type": "execute_result"
    }
   ],
   "source": [
    "a.add(6) # add an element\n",
    "a"
   ]
  },
  {
   "cell_type": "code",
   "execution_count": 151,
   "id": "510df0dd",
   "metadata": {},
   "outputs": [
    {
     "data": {
      "text/plain": [
       "{1, 2, 3, 4, 5, 6, 7, 8}"
      ]
     },
     "execution_count": 151,
     "metadata": {},
     "output_type": "execute_result"
    }
   ],
   "source": [
    "a.update([7,8]) # add elements\n",
    "a"
   ]
  },
  {
   "cell_type": "code",
   "execution_count": 154,
   "id": "4f079e28",
   "metadata": {},
   "outputs": [
    {
     "data": {
      "text/plain": [
       "{1, 4, 5, 6, 7, 8}"
      ]
     },
     "execution_count": 154,
     "metadata": {},
     "output_type": "execute_result"
    }
   ],
   "source": [
    "a.remove(2) #remove element\n",
    "a"
   ]
  },
  {
   "cell_type": "markdown",
   "id": "b05dc65e",
   "metadata": {},
   "source": [
    "## 4. Basic of input and output"
   ]
  },
  {
   "cell_type": "markdown",
   "id": "5fbf9983",
   "metadata": {},
   "source": [
    "Input: input(), User types in something and hits enter\n",
    "\n",
    "we should know, whatever we type in, Python always makes it a string.\n",
    "\n",
    "Output: made by print()\n",
    "\n",
    "map() : change several data into other data type. Mostly used for list and tuple \n"
   ]
  },
  {
   "cell_type": "code",
   "execution_count": 155,
   "id": "9f621c02",
   "metadata": {},
   "outputs": [
    {
     "name": "stdout",
     "output_type": "stream",
     "text": [
      "5\n"
     ]
    }
   ],
   "source": [
    "n = int(input())"
   ]
  },
  {
   "cell_type": "code",
   "execution_count": 157,
   "id": "b5e3b695",
   "metadata": {},
   "outputs": [
    {
     "name": "stdout",
     "output_type": "stream",
     "text": [
      "65 90 75 34 99\n"
     ]
    }
   ],
   "source": [
    "data = list(map(int, input().split()))"
   ]
  },
  {
   "cell_type": "code",
   "execution_count": 159,
   "id": "0dbcc5ba",
   "metadata": {},
   "outputs": [
    {
     "data": {
      "text/plain": [
       "[99, 90, 75, 65, 34]"
      ]
     },
     "execution_count": 159,
     "metadata": {},
     "output_type": "execute_result"
    }
   ],
   "source": [
    "data.sort(reverse=True)\n",
    "data"
   ]
  },
  {
   "cell_type": "code",
   "execution_count": 160,
   "id": "f4c22f74",
   "metadata": {},
   "outputs": [
    {
     "name": "stdout",
     "output_type": "stream",
     "text": [
      "8 3 9\n"
     ]
    }
   ],
   "source": [
    "a, b, c = map(int, input().split())"
   ]
  },
  {
   "cell_type": "code",
   "execution_count": 161,
   "id": "b825fde1",
   "metadata": {},
   "outputs": [
    {
     "data": {
      "text/plain": [
       "(8, 3, 9)"
      ]
     },
     "execution_count": 161,
     "metadata": {},
     "output_type": "execute_result"
    }
   ],
   "source": [
    "a, b, c"
   ]
  },
  {
   "cell_type": "code",
   "execution_count": 162,
   "id": "9b66c388",
   "metadata": {},
   "outputs": [],
   "source": [
    "# input quickly with sys\n",
    "import sys"
   ]
  },
  {
   "cell_type": "code",
   "execution_count": 167,
   "id": "d7747a05",
   "metadata": {},
   "outputs": [
    {
     "data": {
      "text/plain": [
       "''"
      ]
     },
     "execution_count": 167,
     "metadata": {},
     "output_type": "execute_result"
    }
   ],
   "source": [
    "data = sys.stdin.readline().rstrip()\n",
    "data"
   ]
  },
  {
   "cell_type": "markdown",
   "id": "5aac86fd",
   "metadata": {},
   "source": [
    "* f-string"
   ]
  },
  {
   "cell_type": "code",
   "execution_count": 168,
   "id": "1b0015cf",
   "metadata": {},
   "outputs": [
    {
     "name": "stdout",
     "output_type": "stream",
     "text": [
      "The answer is 7.\n"
     ]
    }
   ],
   "source": [
    "answer = 7\n",
    "print(f\"The answer is {answer}.\")"
   ]
  },
  {
   "cell_type": "markdown",
   "id": "f181d64c",
   "metadata": {},
   "source": [
    "## 5. Control Flow"
   ]
  },
  {
   "cell_type": "code",
   "execution_count": 169,
   "id": "7835b059",
   "metadata": {},
   "outputs": [],
   "source": [
    "# If, elif, else <condition>: condition has a value True or False\n",
    "#     <expression>\n",
    "#     <expression>\n",
    "#     …"
   ]
  },
  {
   "cell_type": "markdown",
   "id": "268fc56c",
   "metadata": {},
   "source": [
    "under condition, there are expressions and when the code is running, it evaluates expressions in that block if condition is True.\n",
    "\n",
    "when use this function, equal must be ‘==‘."
   ]
  },
  {
   "cell_type": "code",
   "execution_count": 170,
   "id": "f82a9d07",
   "metadata": {},
   "outputs": [
    {
     "name": "stdout",
     "output_type": "stream",
     "text": [
      "yeah\n"
     ]
    }
   ],
   "source": [
    "x = 15\n",
    "if x >= 10:\n",
    "    print('yeah')"
   ]
  },
  {
   "cell_type": "code",
   "execution_count": 171,
   "id": "e86f9d23",
   "metadata": {},
   "outputs": [
    {
     "name": "stdout",
     "output_type": "stream",
     "text": [
      "a\n"
     ]
    }
   ],
   "source": [
    "#with elif and else\n",
    "if a >= 20:\n",
    "    print('b')\n",
    "elif a >= 18:\n",
    "    print('y')\n",
    "else:\n",
    "    print('a')"
   ]
  },
  {
   "cell_type": "markdown",
   "id": "b72209d2",
   "metadata": {},
   "source": [
    "* Comparison operations on int, float, string(alphabet also has it’s number)"
   ]
  },
  {
   "cell_type": "code",
   "execution_count": 175,
   "id": "a9e6c178",
   "metadata": {},
   "outputs": [],
   "source": [
    "y = 1\n",
    "if x == y:\n",
    "    print('k')"
   ]
  },
  {
   "cell_type": "code",
   "execution_count": 176,
   "id": "68290448",
   "metadata": {},
   "outputs": [
    {
     "name": "stdout",
     "output_type": "stream",
     "text": [
      "k\n"
     ]
    }
   ],
   "source": [
    "if x != y:\n",
    "    print('k')"
   ]
  },
  {
   "cell_type": "code",
   "execution_count": 177,
   "id": "23441646",
   "metadata": {},
   "outputs": [
    {
     "name": "stdout",
     "output_type": "stream",
     "text": [
      "k\n"
     ]
    }
   ],
   "source": [
    "if x > y:\n",
    "    print('k')"
   ]
  },
  {
   "cell_type": "code",
   "execution_count": 178,
   "id": "cf7789b4",
   "metadata": {},
   "outputs": [],
   "source": [
    "if x < y:\n",
    "    print('k')"
   ]
  },
  {
   "cell_type": "code",
   "execution_count": 179,
   "id": "00e56109",
   "metadata": {},
   "outputs": [
    {
     "name": "stdout",
     "output_type": "stream",
     "text": [
      "k\n"
     ]
    }
   ],
   "source": [
    "if x >= y:\n",
    "    print('k')"
   ]
  },
  {
   "cell_type": "code",
   "execution_count": 180,
   "id": "2c126342",
   "metadata": {},
   "outputs": [],
   "source": [
    "if x <= y:\n",
    "    print('k')"
   ]
  },
  {
   "cell_type": "markdown",
   "id": "0de0f1d3",
   "metadata": {},
   "source": [
    "* Logic operators on bools\n",
    "\n",
    "Not a : True is a is False, False if a if True\n",
    "\n",
    "A and b : True if both are True\n",
    "\n",
    "A or b : True if either or both are True\n"
   ]
  },
  {
   "cell_type": "markdown",
   "id": "215682dc",
   "metadata": {},
   "source": [
    "- other things"
   ]
  },
  {
   "cell_type": "code",
   "execution_count": 186,
   "id": "bcc72000",
   "metadata": {},
   "outputs": [
    {
     "name": "stdout",
     "output_type": "stream",
     "text": [
      "True\n"
     ]
    }
   ],
   "source": [
    "# in and not in\n",
    "df = [1, 2, 3, 4, 5, 15]\n",
    "if x in df:\n",
    "    print('True')\n",
    "else:\n",
    "    print('False')"
   ]
  },
  {
   "cell_type": "code",
   "execution_count": 187,
   "id": "dc2f4ae3",
   "metadata": {},
   "outputs": [
    {
     "name": "stdout",
     "output_type": "stream",
     "text": [
      "False\n"
     ]
    }
   ],
   "source": [
    "df = [1, 2, 3, 4, 5, 15]\n",
    "if x not in df:\n",
    "    print('True')\n",
    "else:\n",
    "    print('False')"
   ]
  },
  {
   "cell_type": "code",
   "execution_count": 188,
   "id": "c702df8c",
   "metadata": {},
   "outputs": [],
   "source": [
    "#pass : pass the line\n",
    "if x in df:\n",
    "    pass # will write later\n",
    "else:\n",
    "    print('False')"
   ]
  },
  {
   "cell_type": "markdown",
   "id": "9b5fbf76",
   "metadata": {},
   "source": [
    "## 6. While & For loop"
   ]
  },
  {
   "cell_type": "markdown",
   "id": "23cc410a",
   "metadata": {},
   "source": [
    "* while loop"
   ]
  },
  {
   "cell_type": "code",
   "execution_count": 191,
   "id": "4fbb520f",
   "metadata": {},
   "outputs": [],
   "source": [
    "# While <condition>:\n",
    "#     <expression>\n",
    "#     <expression>\n",
    "#     …"
   ]
  },
  {
   "cell_type": "markdown",
   "id": "a30a1c1d",
   "metadata": {},
   "source": [
    "condition evaluate to a Boolean\n",
    "\n",
    "If condition is True, do all the steps inside the while code block\n",
    "\n",
    "Check condition again\n",
    "\n",
    "Repeat until condition is False\n",
    "\n",
    "When there is no False, then it will run forever\n",
    "\n",
    "Sometimes, you can make infinite loop. so plz check the condition is infinite\n"
   ]
  },
  {
   "cell_type": "code",
   "execution_count": 7,
   "id": "cc1a7609",
   "metadata": {},
   "outputs": [
    {
     "name": "stdout",
     "output_type": "stream",
     "text": [
      "45\n"
     ]
    }
   ],
   "source": [
    "i = 1\n",
    "result = 0\n",
    "\n",
    "while i <= 9:\n",
    "    result += i\n",
    "    i += 1\n",
    "    \n",
    "print(result)"
   ]
  },
  {
   "cell_type": "markdown",
   "id": "9d4b7d86",
   "metadata": {},
   "source": [
    "- For loop"
   ]
  },
  {
   "cell_type": "code",
   "execution_count": 189,
   "id": "f57c6a67",
   "metadata": {},
   "outputs": [],
   "source": [
    "# For <variable> in range(<some_num>):\n",
    "#     <expression>\n",
    "#     <expression>"
   ]
  },
  {
   "cell_type": "markdown",
   "id": "fd9d21cf",
   "metadata": {},
   "source": [
    "each time through the loop, variable takes a value\n",
    "\n",
    "First time, variable starts at the smallest value\n",
    "\n",
    "Next time, variable gets the prev value +1"
   ]
  },
  {
   "cell_type": "markdown",
   "id": "bf538bb8",
   "metadata": {},
   "source": [
    "range(start, stop, step)\n",
    "\n",
    "* default values are start = 0 and step = 1 and optional\n",
    "\n",
    "* loop until value is stop -1\n"
   ]
  },
  {
   "cell_type": "code",
   "execution_count": 8,
   "id": "de5d7bb2",
   "metadata": {},
   "outputs": [
    {
     "name": "stdout",
     "output_type": "stream",
     "text": [
      "9\n",
      "8\n",
      "7\n",
      "6\n",
      "5\n"
     ]
    }
   ],
   "source": [
    "array = [9, 8, 7, 6, 5]\n",
    "\n",
    "for x in array:\n",
    "    print(x)"
   ]
  },
  {
   "cell_type": "markdown",
   "id": "0824723d",
   "metadata": {},
   "source": [
    "range(start, stop, step)\n",
    "\n",
    "* default values are start = 0 and step = 1 and optional\n",
    "\n",
    "* loop until value is stop -1\n"
   ]
  },
  {
   "cell_type": "code",
   "execution_count": 11,
   "id": "07b0980b",
   "metadata": {},
   "outputs": [
    {
     "name": "stdout",
     "output_type": "stream",
     "text": [
      "45\n"
     ]
    }
   ],
   "source": [
    "#procedure is the same as while loop example.\n",
    "result = 0\n",
    "\n",
    "for i in range(1, 10): \n",
    "    result += i\n",
    "print(result)\n"
   ]
  },
  {
   "cell_type": "code",
   "execution_count": 12,
   "id": "4f216446",
   "metadata": {},
   "outputs": [
    {
     "name": "stdout",
     "output_type": "stream",
     "text": [
      "1\n",
      "2\n",
      "3\n",
      "4\n",
      "5\n",
      "6\n",
      "7\n",
      "8\n",
      "9\n"
     ]
    }
   ],
   "source": [
    "for i in range(1, 10): \n",
    "    print(i)"
   ]
  },
  {
   "cell_type": "markdown",
   "id": "578c3ca7",
   "metadata": {},
   "source": [
    "- continue\n",
    "\n",
    "when we want to skip some codes, then use 'continue'"
   ]
  },
  {
   "cell_type": "code",
   "execution_count": 13,
   "id": "12da01b2",
   "metadata": {},
   "outputs": [
    {
     "name": "stdout",
     "output_type": "stream",
     "text": [
      "25\n"
     ]
    }
   ],
   "source": [
    "result = 0\n",
    "\n",
    "for i in range(1, 10):\n",
    "    if i % 2 == 0:\n",
    "        continue\n",
    "    result += i \n",
    "print(result)"
   ]
  },
  {
   "cell_type": "code",
   "execution_count": 17,
   "id": "9b3797e5",
   "metadata": {},
   "outputs": [
    {
     "name": "stdout",
     "output_type": "stream",
     "text": [
      "20\n"
     ]
    }
   ],
   "source": [
    "# this is the difference\n",
    "result = 0\n",
    "\n",
    "for i in range(1, 10):\n",
    "    if i % 2 == 0:\n",
    "        result += i \n",
    "print(result)"
   ]
  },
  {
   "cell_type": "markdown",
   "id": "4ce8470c",
   "metadata": {},
   "source": [
    "- break\n",
    "\n",
    "if you want to exit from the code? just use it.\n",
    "\n",
    "immediately exits whatever loop it is in\n",
    "\n",
    "Skips remaining expression in code block\n",
    "\n",
    "Exits only innermost loop!"
   ]
  },
  {
   "cell_type": "code",
   "execution_count": 19,
   "id": "c398d25d",
   "metadata": {},
   "outputs": [
    {
     "name": "stdout",
     "output_type": "stream",
     "text": [
      "i =  1\n",
      "i =  2\n",
      "i =  3\n",
      "i =  4\n",
      "i =  5\n"
     ]
    }
   ],
   "source": [
    "i = 1\n",
    "\n",
    "while True:\n",
    "    print('i = ', i)\n",
    "    if i == 5:\n",
    "        break\n",
    "    i += 1\n",
    "\n",
    "# It'll run forever, there is no 'break'"
   ]
  },
  {
   "cell_type": "markdown",
   "id": "2c7d8d75",
   "metadata": {},
   "source": [
    "## Examples"
   ]
  },
  {
   "cell_type": "code",
   "execution_count": 22,
   "id": "4f4f00a9",
   "metadata": {},
   "outputs": [],
   "source": [
    "scores = [90, 85, 77, 65, 97]"
   ]
  },
  {
   "cell_type": "code",
   "execution_count": 25,
   "id": "67d3946b",
   "metadata": {},
   "outputs": [
    {
     "name": "stdout",
     "output_type": "stream",
     "text": [
      "1 passed.\n",
      "2 passed.\n",
      "5 passed.\n"
     ]
    }
   ],
   "source": [
    "# pass if the score more than 80\n",
    "\n",
    "for i in range(5):\n",
    "    if scores[i] >= 80:\n",
    "        print(i + 1, 'passed.')"
   ]
  },
  {
   "cell_type": "code",
   "execution_count": 26,
   "id": "86d9a75d",
   "metadata": {},
   "outputs": [
    {
     "name": "stdout",
     "output_type": "stream",
     "text": [
      "1 passed.\n",
      "5 passed.\n"
     ]
    }
   ],
   "source": [
    "# except for cheating students\n",
    "cheating = {2, 4}\n",
    "\n",
    "for i in range(5):\n",
    "    if i + 1 in cheating:\n",
    "        continue\n",
    "    if scores[i] >= 80:\n",
    "        print(i + 1, 'passed.')"
   ]
  },
  {
   "cell_type": "code",
   "execution_count": 30,
   "id": "4e37a6ec",
   "metadata": {},
   "outputs": [
    {
     "name": "stdout",
     "output_type": "stream",
     "text": [
      "2 * 1 = 2\n",
      "2 * 2 = 4\n",
      "2 * 3 = 6\n",
      "2 * 4 = 8\n",
      "2 * 5 = 10\n",
      "2 * 6 = 12\n",
      "2 * 7 = 14\n",
      "2 * 8 = 16\n",
      "2 * 9 = 18\n",
      "\n",
      "3 * 1 = 3\n",
      "3 * 2 = 6\n",
      "3 * 3 = 9\n",
      "3 * 4 = 12\n",
      "3 * 5 = 15\n",
      "3 * 6 = 18\n",
      "3 * 7 = 21\n",
      "3 * 8 = 24\n",
      "3 * 9 = 27\n",
      "\n",
      "4 * 1 = 4\n",
      "4 * 2 = 8\n",
      "4 * 3 = 12\n",
      "4 * 4 = 16\n",
      "4 * 5 = 20\n",
      "4 * 6 = 24\n",
      "4 * 7 = 28\n",
      "4 * 8 = 32\n",
      "4 * 9 = 36\n",
      "\n",
      "5 * 1 = 5\n",
      "5 * 2 = 10\n",
      "5 * 3 = 15\n",
      "5 * 4 = 20\n",
      "5 * 5 = 25\n",
      "5 * 6 = 30\n",
      "5 * 7 = 35\n",
      "5 * 8 = 40\n",
      "5 * 9 = 45\n",
      "\n",
      "6 * 1 = 6\n",
      "6 * 2 = 12\n",
      "6 * 3 = 18\n",
      "6 * 4 = 24\n",
      "6 * 5 = 30\n",
      "6 * 6 = 36\n",
      "6 * 7 = 42\n",
      "6 * 8 = 48\n",
      "6 * 9 = 54\n",
      "\n",
      "7 * 1 = 7\n",
      "7 * 2 = 14\n",
      "7 * 3 = 21\n",
      "7 * 4 = 28\n",
      "7 * 5 = 35\n",
      "7 * 6 = 42\n",
      "7 * 7 = 49\n",
      "7 * 8 = 56\n",
      "7 * 9 = 63\n",
      "\n",
      "8 * 1 = 8\n",
      "8 * 2 = 16\n",
      "8 * 3 = 24\n",
      "8 * 4 = 32\n",
      "8 * 5 = 40\n",
      "8 * 6 = 48\n",
      "8 * 7 = 56\n",
      "8 * 8 = 64\n",
      "8 * 9 = 72\n",
      "\n",
      "9 * 1 = 9\n",
      "9 * 2 = 18\n",
      "9 * 3 = 27\n",
      "9 * 4 = 36\n",
      "9 * 5 = 45\n",
      "9 * 6 = 54\n",
      "9 * 7 = 63\n",
      "9 * 8 = 72\n",
      "9 * 9 = 81\n",
      "\n"
     ]
    }
   ],
   "source": [
    "# for loop in for loop\n",
    "# make multiplication table\n",
    "for i in range(2, 10):\n",
    "    for j in range(1, 10):\n",
    "        print(i, '*', j, '=', i * j)\n",
    "    print()"
   ]
  },
  {
   "cell_type": "markdown",
   "id": "b2bd6c40",
   "metadata": {},
   "source": [
    "## 7. funtion"
   ]
  },
  {
   "cell_type": "markdown",
   "id": "ac672d2c",
   "metadata": {},
   "source": [
    "Method too reduce repeat of the same code. \n",
    "\n",
    "- parameter : variable used in function.\n",
    "\n",
    "- return : result of function."
   ]
  },
  {
   "cell_type": "code",
   "execution_count": 32,
   "id": "d17ba86d",
   "metadata": {},
   "outputs": [],
   "source": [
    "def name_of_function(parameter):\n",
    "    #source code\n",
    "    return # == result"
   ]
  },
  {
   "cell_type": "code",
   "execution_count": 33,
   "id": "d2543b10",
   "metadata": {},
   "outputs": [],
   "source": [
    "# sum\n",
    "def add(a, b):\n",
    "    return a + b"
   ]
  },
  {
   "cell_type": "code",
   "execution_count": 34,
   "id": "7406625f",
   "metadata": {},
   "outputs": [
    {
     "data": {
      "text/plain": [
       "10"
      ]
     },
     "execution_count": 34,
     "metadata": {},
     "output_type": "execute_result"
    }
   ],
   "source": [
    "add(3, 7)"
   ]
  },
  {
   "cell_type": "code",
   "execution_count": 36,
   "id": "0bd0ddce",
   "metadata": {},
   "outputs": [
    {
     "data": {
      "text/plain": [
       "10"
      ]
     },
     "execution_count": 36,
     "metadata": {},
     "output_type": "execute_result"
    }
   ],
   "source": [
    "# You can designate parameters directly.\n",
    "add(b = 3, a = 7)"
   ]
  },
  {
   "cell_type": "markdown",
   "id": "3a89087c",
   "metadata": {},
   "source": [
    "- global keyword\n",
    "\n",
    "if you designate global as a parameter, then it use variable out of the function.\n"
   ]
  },
  {
   "cell_type": "code",
   "execution_count": 37,
   "id": "dcc6dd31",
   "metadata": {},
   "outputs": [],
   "source": [
    "a = 0"
   ]
  },
  {
   "cell_type": "code",
   "execution_count": 38,
   "id": "675f58ad",
   "metadata": {},
   "outputs": [],
   "source": [
    "def f():\n",
    "    global a\n",
    "    a +=1 \n",
    "for i in range(10):\n",
    "    f()"
   ]
  },
  {
   "cell_type": "code",
   "execution_count": 39,
   "id": "bde79b18",
   "metadata": {},
   "outputs": [
    {
     "data": {
      "text/plain": [
       "10"
      ]
     },
     "execution_count": 39,
     "metadata": {},
     "output_type": "execute_result"
    }
   ],
   "source": [
    "a"
   ]
  },
  {
   "cell_type": "markdown",
   "id": "84be4cfb",
   "metadata": {},
   "source": [
    "Function can have returns more than one."
   ]
  },
  {
   "cell_type": "code",
   "execution_count": 42,
   "id": "fdac2ddb",
   "metadata": {},
   "outputs": [],
   "source": [
    "def operator(a, b):\n",
    "    add = a + b\n",
    "    sub = a - b\n",
    "    mul = a * b\n",
    "    div = a / b\n",
    "    return add, sub, mul, div"
   ]
  },
  {
   "cell_type": "code",
   "execution_count": 43,
   "id": "dff804d5",
   "metadata": {},
   "outputs": [],
   "source": [
    "a, b, c, d = operator(7, 3)"
   ]
  },
  {
   "cell_type": "code",
   "execution_count": 44,
   "id": "3c695e25",
   "metadata": {},
   "outputs": [
    {
     "data": {
      "text/plain": [
       "(10, 4, 21, 2.3333333333333335)"
      ]
     },
     "execution_count": 44,
     "metadata": {},
     "output_type": "execute_result"
    }
   ],
   "source": [
    "a, b, c, d"
   ]
  },
  {
   "cell_type": "markdown",
   "id": "43c61032",
   "metadata": {},
   "source": [
    "- lambda method\n",
    "\n",
    "a kind of short way"
   ]
  },
  {
   "cell_type": "code",
   "execution_count": 47,
   "id": "7e4ab4d3",
   "metadata": {},
   "outputs": [
    {
     "data": {
      "text/plain": [
       "10"
      ]
     },
     "execution_count": 47,
     "metadata": {},
     "output_type": "execute_result"
    }
   ],
   "source": [
    "# sum\n",
    "# def add(a, b):\n",
    "#     return a + b\n",
    "# is the same as\n",
    "(lambda a, b: a + b)(3, 7)"
   ]
  },
  {
   "cell_type": "code",
   "execution_count": 48,
   "id": "b1ae6aac",
   "metadata": {},
   "outputs": [],
   "source": [
    "array = [('kim', 26), ('park', 24), ('lee', 28)]\n",
    "\n",
    "def my_key(x):\n",
    "    return x[1]"
   ]
  },
  {
   "cell_type": "code",
   "execution_count": 49,
   "id": "fabf36a6",
   "metadata": {},
   "outputs": [
    {
     "data": {
      "text/plain": [
       "[('park', 24), ('kim', 26), ('lee', 28)]"
      ]
     },
     "execution_count": 49,
     "metadata": {},
     "output_type": "execute_result"
    }
   ],
   "source": [
    "sorted(array, key = my_key)"
   ]
  },
  {
   "cell_type": "code",
   "execution_count": 50,
   "id": "f0ad1730",
   "metadata": {},
   "outputs": [
    {
     "data": {
      "text/plain": [
       "[('park', 24), ('kim', 26), ('lee', 28)]"
      ]
     },
     "execution_count": 50,
     "metadata": {},
     "output_type": "execute_result"
    }
   ],
   "source": [
    "sorted(array, key = lambda x: x[1]) # the same"
   ]
  },
  {
   "cell_type": "code",
   "execution_count": 52,
   "id": "f40ee9e7",
   "metadata": {},
   "outputs": [],
   "source": [
    "# application\n",
    "\n",
    "list1 = [1, 2, 3, 4, 5]\n",
    "list2 = [6, 7, 8, 9, 10]\n",
    "\n",
    "result = map(lambda a, b: a + b, list1, list2)"
   ]
  },
  {
   "cell_type": "code",
   "execution_count": 54,
   "id": "c28a1162",
   "metadata": {},
   "outputs": [
    {
     "data": {
      "text/plain": [
       "[7, 9, 11, 13, 15]"
      ]
     },
     "execution_count": 54,
     "metadata": {},
     "output_type": "execute_result"
    }
   ],
   "source": [
    "list(result)"
   ]
  },
  {
   "cell_type": "markdown",
   "id": "2d39575a",
   "metadata": {},
   "source": [
    "## 8. inner function"
   ]
  },
  {
   "cell_type": "code",
   "execution_count": 56,
   "id": "145b0f89",
   "metadata": {},
   "outputs": [
    {
     "data": {
      "text/plain": [
       "15"
      ]
     },
     "execution_count": 56,
     "metadata": {},
     "output_type": "execute_result"
    }
   ],
   "source": [
    "# sum()\n",
    "a = sum([1, 2, 3, 4, 5])\n",
    "a"
   ]
  },
  {
   "cell_type": "code",
   "execution_count": 62,
   "id": "a6f9f56e",
   "metadata": {},
   "outputs": [
    {
     "data": {
      "text/plain": [
       "(2, 9)"
      ]
     },
     "execution_count": 62,
     "metadata": {},
     "output_type": "execute_result"
    }
   ],
   "source": [
    "# min(), max()\n",
    "min(a), max(a)"
   ]
  },
  {
   "cell_type": "code",
   "execution_count": 65,
   "id": "804fa272",
   "metadata": {},
   "outputs": [
    {
     "data": {
      "text/plain": [
       "56"
      ]
     },
     "execution_count": 65,
     "metadata": {},
     "output_type": "execute_result"
    }
   ],
   "source": [
    "eval(\"(3 + 5) * 7\") # change string into real number and calculate"
   ]
  },
  {
   "cell_type": "code",
   "execution_count": 67,
   "id": "e0b007e4",
   "metadata": {},
   "outputs": [
    {
     "data": {
      "text/plain": [
       "[2, 4, 5, 6, 8, 9]"
      ]
     },
     "execution_count": 67,
     "metadata": {},
     "output_type": "execute_result"
    }
   ],
   "source": [
    "#sorted()\n",
    "a = [9, 8, 2, 4, 5, 6]\n",
    "sorted(a)"
   ]
  },
  {
   "cell_type": "code",
   "execution_count": 68,
   "id": "d210e27e",
   "metadata": {},
   "outputs": [
    {
     "data": {
      "text/plain": [
       "[9, 8, 6, 5, 4, 2]"
      ]
     },
     "execution_count": 68,
     "metadata": {},
     "output_type": "execute_result"
    }
   ],
   "source": [
    "sorted(a, reverse = True)"
   ]
  },
  {
   "cell_type": "markdown",
   "id": "fe2466d4",
   "metadata": {},
   "source": []
  }
 ],
 "metadata": {
  "kernelspec": {
   "display_name": "Python 3 (ipykernel)",
   "language": "python",
   "name": "python3"
  },
  "language_info": {
   "codemirror_mode": {
    "name": "ipython",
    "version": 3
   },
   "file_extension": ".py",
   "mimetype": "text/x-python",
   "name": "python",
   "nbconvert_exporter": "python",
   "pygments_lexer": "ipython3",
   "version": "3.9.13"
  }
 },
 "nbformat": 4,
 "nbformat_minor": 5
}
