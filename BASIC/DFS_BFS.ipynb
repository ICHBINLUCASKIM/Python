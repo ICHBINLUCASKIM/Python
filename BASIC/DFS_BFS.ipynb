{
 "cells": [
  {
   "cell_type": "markdown",
   "id": "d81dbdeb",
   "metadata": {},
   "source": [
    "- Stack"
   ]
  },
  {
   "cell_type": "code",
   "execution_count": 1,
   "id": "e1729611",
   "metadata": {},
   "outputs": [],
   "source": [
    "stack = []"
   ]
  },
  {
   "cell_type": "code",
   "execution_count": 2,
   "id": "94881491",
   "metadata": {},
   "outputs": [],
   "source": [
    "stack.append(5)"
   ]
  },
  {
   "cell_type": "code",
   "execution_count": 3,
   "id": "594e6d1c",
   "metadata": {},
   "outputs": [],
   "source": [
    "stack.append(2)"
   ]
  },
  {
   "cell_type": "code",
   "execution_count": 4,
   "id": "3e836100",
   "metadata": {},
   "outputs": [],
   "source": [
    "stack.append(3)"
   ]
  },
  {
   "cell_type": "code",
   "execution_count": 5,
   "id": "67ec4d5a",
   "metadata": {},
   "outputs": [],
   "source": [
    "stack.append(7)"
   ]
  },
  {
   "cell_type": "code",
   "execution_count": 6,
   "id": "fcc9eb10",
   "metadata": {},
   "outputs": [
    {
     "data": {
      "text/plain": [
       "7"
      ]
     },
     "execution_count": 6,
     "metadata": {},
     "output_type": "execute_result"
    }
   ],
   "source": [
    "stack.pop()"
   ]
  },
  {
   "cell_type": "code",
   "execution_count": 7,
   "id": "18a22d5c",
   "metadata": {},
   "outputs": [],
   "source": [
    "stack.append(1)"
   ]
  },
  {
   "cell_type": "code",
   "execution_count": 8,
   "id": "2df4e82f",
   "metadata": {},
   "outputs": [],
   "source": [
    "stack.append(4)"
   ]
  },
  {
   "cell_type": "code",
   "execution_count": 9,
   "id": "c4bd913c",
   "metadata": {},
   "outputs": [
    {
     "data": {
      "text/plain": [
       "4"
      ]
     },
     "execution_count": 9,
     "metadata": {},
     "output_type": "execute_result"
    }
   ],
   "source": [
    "stack.pop()"
   ]
  },
  {
   "cell_type": "code",
   "execution_count": 10,
   "id": "5b397ff7",
   "metadata": {},
   "outputs": [
    {
     "data": {
      "text/plain": [
       "[1, 3, 2, 5]"
      ]
     },
     "execution_count": 10,
     "metadata": {},
     "output_type": "execute_result"
    }
   ],
   "source": [
    "stack[::-1]"
   ]
  },
  {
   "cell_type": "code",
   "execution_count": 11,
   "id": "2dcbbf12",
   "metadata": {},
   "outputs": [
    {
     "data": {
      "text/plain": [
       "[5, 2, 3, 1]"
      ]
     },
     "execution_count": 11,
     "metadata": {},
     "output_type": "execute_result"
    }
   ],
   "source": [
    "stack"
   ]
  },
  {
   "cell_type": "markdown",
   "id": "430a5060",
   "metadata": {},
   "source": [
    "- Queue"
   ]
  },
  {
   "cell_type": "code",
   "execution_count": 13,
   "id": "b91bf476",
   "metadata": {},
   "outputs": [],
   "source": [
    "from collections import deque"
   ]
  },
  {
   "cell_type": "code",
   "execution_count": 14,
   "id": "35120383",
   "metadata": {},
   "outputs": [],
   "source": [
    "queue = deque()"
   ]
  },
  {
   "cell_type": "code",
   "execution_count": 15,
   "id": "5acca646",
   "metadata": {},
   "outputs": [],
   "source": [
    "queue.append(5)"
   ]
  },
  {
   "cell_type": "code",
   "execution_count": 16,
   "id": "4f5ae9c6",
   "metadata": {},
   "outputs": [],
   "source": [
    "queue.append(2)"
   ]
  },
  {
   "cell_type": "code",
   "execution_count": 17,
   "id": "90cc86d6",
   "metadata": {},
   "outputs": [],
   "source": [
    "queue.append(3)"
   ]
  },
  {
   "cell_type": "code",
   "execution_count": 18,
   "id": "3c735b50",
   "metadata": {},
   "outputs": [],
   "source": [
    "queue.append(7)"
   ]
  },
  {
   "cell_type": "code",
   "execution_count": 19,
   "id": "8a6e0309",
   "metadata": {},
   "outputs": [
    {
     "data": {
      "text/plain": [
       "5"
      ]
     },
     "execution_count": 19,
     "metadata": {},
     "output_type": "execute_result"
    }
   ],
   "source": [
    "queue.popleft()"
   ]
  },
  {
   "cell_type": "code",
   "execution_count": 20,
   "id": "dfae67a6",
   "metadata": {},
   "outputs": [],
   "source": [
    "queue.append(1)"
   ]
  },
  {
   "cell_type": "code",
   "execution_count": 21,
   "id": "590a21eb",
   "metadata": {},
   "outputs": [],
   "source": [
    "queue.append(4)"
   ]
  },
  {
   "cell_type": "code",
   "execution_count": 22,
   "id": "66bc7aa6",
   "metadata": {},
   "outputs": [
    {
     "data": {
      "text/plain": [
       "2"
      ]
     },
     "execution_count": 22,
     "metadata": {},
     "output_type": "execute_result"
    }
   ],
   "source": [
    "queue.popleft()"
   ]
  },
  {
   "cell_type": "code",
   "execution_count": 23,
   "id": "2833b686",
   "metadata": {},
   "outputs": [
    {
     "data": {
      "text/plain": [
       "deque([3, 7, 1, 4])"
      ]
     },
     "execution_count": 23,
     "metadata": {},
     "output_type": "execute_result"
    }
   ],
   "source": [
    "queue"
   ]
  },
  {
   "cell_type": "code",
   "execution_count": 25,
   "id": "1b15aaa4",
   "metadata": {},
   "outputs": [],
   "source": [
    "queue.reverse()"
   ]
  },
  {
   "cell_type": "code",
   "execution_count": 26,
   "id": "2fda9f4b",
   "metadata": {},
   "outputs": [
    {
     "data": {
      "text/plain": [
       "deque([4, 1, 7, 3])"
      ]
     },
     "execution_count": 26,
     "metadata": {},
     "output_type": "execute_result"
    }
   ],
   "source": [
    "queue"
   ]
  },
  {
   "cell_type": "markdown",
   "id": "774957f5",
   "metadata": {},
   "source": [
    "- recursive function"
   ]
  },
  {
   "cell_type": "markdown",
   "id": "f7a6fbe9",
   "metadata": {},
   "source": [
    "Iteration"
   ]
  },
  {
   "cell_type": "code",
   "execution_count": 27,
   "id": "68c65321",
   "metadata": {},
   "outputs": [],
   "source": [
    "def factorial_iterative(n):\n",
    "    result = 1\n",
    "    for i in range(1, n + 1):\n",
    "        result *= i\n",
    "    return result"
   ]
  },
  {
   "cell_type": "code",
   "execution_count": 28,
   "id": "7390c43c",
   "metadata": {},
   "outputs": [],
   "source": [
    "def factorial_recursive(n):\n",
    "    if n <= 1:\n",
    "        return 1\n",
    "    return n * factorial_recursive(n-1)"
   ]
  },
  {
   "cell_type": "code",
   "execution_count": 29,
   "id": "610ea93d",
   "metadata": {},
   "outputs": [
    {
     "data": {
      "text/plain": [
       "120"
      ]
     },
     "execution_count": 29,
     "metadata": {},
     "output_type": "execute_result"
    }
   ],
   "source": [
    "factorial_iterative(5)"
   ]
  },
  {
   "cell_type": "code",
   "execution_count": 30,
   "id": "0569c387",
   "metadata": {},
   "outputs": [
    {
     "data": {
      "text/plain": [
       "120"
      ]
     },
     "execution_count": 30,
     "metadata": {},
     "output_type": "execute_result"
    }
   ],
   "source": [
    "factorial_recursive(5)"
   ]
  },
  {
   "cell_type": "markdown",
   "id": "ebeee95f",
   "metadata": {},
   "source": [
    "- Greatest common divisor"
   ]
  },
  {
   "cell_type": "code",
   "execution_count": 31,
   "id": "83e53e2d",
   "metadata": {},
   "outputs": [],
   "source": [
    "def gcd(a, b):\n",
    "    if a % b == 0:\n",
    "        return b\n",
    "    else:\n",
    "        return gcd(b, a % b)"
   ]
  },
  {
   "cell_type": "code",
   "execution_count": 32,
   "id": "ad11632b",
   "metadata": {},
   "outputs": [
    {
     "data": {
      "text/plain": [
       "6"
      ]
     },
     "execution_count": 32,
     "metadata": {},
     "output_type": "execute_result"
    }
   ],
   "source": [
    "gcd(192, 162)"
   ]
  },
  {
   "cell_type": "markdown",
   "id": "2b17e962",
   "metadata": {},
   "source": [
    "- DFS"
   ]
  },
  {
   "cell_type": "code",
   "execution_count": 34,
   "id": "702146f4",
   "metadata": {},
   "outputs": [],
   "source": [
    "def dfs(graph, v, visited):\n",
    "    visited[v] = True\n",
    "    print(v, end = '')\n",
    "    for i in graph[v]:\n",
    "        if not visited[i]:\n",
    "            dfs(graph, i, visited)"
   ]
  },
  {
   "cell_type": "code",
   "execution_count": 35,
   "id": "85d3db85",
   "metadata": {},
   "outputs": [],
   "source": [
    "graph = [\n",
    "    [],\n",
    "    [2, 3, 8],\n",
    "    [1, 7],\n",
    "    [1, 4, 5],\n",
    "    [3, 5],\n",
    "    [3, 4],\n",
    "    [7],\n",
    "    [2, 6, 8],\n",
    "    [1, 7]\n",
    "]"
   ]
  },
  {
   "cell_type": "code",
   "execution_count": 36,
   "id": "271a7087",
   "metadata": {},
   "outputs": [],
   "source": [
    "visited = [False] * 9"
   ]
  },
  {
   "cell_type": "code",
   "execution_count": 37,
   "id": "4fd0d8fc",
   "metadata": {},
   "outputs": [
    {
     "name": "stdout",
     "output_type": "stream",
     "text": [
      "12768345"
     ]
    }
   ],
   "source": [
    "dfs(graph, 1, visited)"
   ]
  },
  {
   "cell_type": "markdown",
   "id": "baa0ae53",
   "metadata": {},
   "source": [
    "- BFS"
   ]
  },
  {
   "cell_type": "code",
   "execution_count": 46,
   "id": "bcfd3588",
   "metadata": {},
   "outputs": [],
   "source": [
    "#BFS메서드정의\n",
    "def bfs(graph, start, visited):\n",
    "#큐(Queue)구현을위해deque라이브러리사용\n",
    "    queue = deque ([start])\n",
    "    #현재노드를방문처리\n",
    "    visited[start] = True\n",
    "    #큐가빌때까지반복\n",
    "    while queue:\n",
    "    #큐에서하나의원소를뽑아출력하기\n",
    "        v = queue.popleft()\n",
    "        print(v, end=' ')\n",
    "        #아직방문하지않은인접한원소들을큐에삽입\n",
    "        for i in graph[v]:\n",
    "            if not visited[i]:\n",
    "                queue. append(i)\n",
    "                visited[i] = True"
   ]
  },
  {
   "cell_type": "code",
   "execution_count": 47,
   "id": "7e161e9e",
   "metadata": {},
   "outputs": [
    {
     "name": "stdout",
     "output_type": "stream",
     "text": [
      "1 2 3 8 7 4 5 6 "
     ]
    }
   ],
   "source": [
    "graph = [\n",
    "[],\n",
    "[2, 3, 8],\n",
    "[1, 7],\n",
    "[1, 4, 5],\n",
    "[3, 5],\n",
    "[3, 4],\n",
    "[7],\n",
    "[2, 6, 8],\n",
    "[1, 7]\n",
    "]\n",
    "\n",
    "visited = [False] * 9\n",
    "\n",
    "bfs(graph, 1, visited)"
   ]
  },
  {
   "cell_type": "markdown",
   "id": "3c4804ec",
   "metadata": {},
   "source": [
    "- cold beverage"
   ]
  },
  {
   "cell_type": "code",
   "execution_count": 1,
   "id": "7c7248f2",
   "metadata": {},
   "outputs": [
    {
     "name": "stdout",
     "output_type": "stream",
     "text": [
      "4 5\n",
      "00110\n",
      "00011\n",
      "11111\n",
      "00000\n",
      "3\n"
     ]
    }
   ],
   "source": [
    "#DFS로특정노드를방문하고연결된모든노드들도방문\n",
    "def dfs(x,y):\n",
    "#주어진범위를벗어나는경우에는즉시종료\n",
    "    if x <=-1 or x >= n or y <=-1 or y >= m:\n",
    "        return False\n",
    "#현재노드를아직방문하지않았다면\n",
    "    if graph[x][y] == 0:\n",
    "#해당노드방문처리\n",
    "        graph[x][y] = 1\n",
    "#상,하,좌,우의위치들도모두재귀적으로호출\n",
    "        dfs(x-1,y)\n",
    "        dfs(x, y - 1)\n",
    "        dfs(x+1,y)\n",
    "        dfs(x, y + 1)\n",
    "        return True\n",
    "    return False\n",
    "\n",
    "#N,M을공백을기준으로구분하여입력받기\n",
    "n, m = map(int, input().split())\n",
    "#2차원리스트의맵정보입력받기\n",
    "graph = []\n",
    "for i in range (n):\n",
    "    graph.append(list(map(int, input())))\n",
    "#모든노드(위치)에대하여음료수채우기\n",
    "result = 0\n",
    "for i in range(n):\n",
    "    for j in range (m):\n",
    "#현재위치에서DFS수행\n",
    "        if dfs(i, j) == True:\n",
    "            result += 1\n",
    "print(result)#정답출력"
   ]
  },
  {
   "cell_type": "code",
   "execution_count": 2,
   "id": "6b026250",
   "metadata": {},
   "outputs": [],
   "source": [
    "def fill_drinks(map):\n",
    "    n = len(map)\n",
    "    m = len(map[0])\n",
    "    count = 0\n",
    "    \n",
    "    def dfs(x, y):\n",
    "        if x < 0 or x >= n or y < 0 or y >= m or map[x][y] != 0:\n",
    "            return\n",
    "        map[x][y] = 1\n",
    "        dfs(x+1, y)\n",
    "        dfs(x-1, y)\n",
    "        dfs(x, y+1)\n",
    "        dfs(x, y-1)\n",
    "        \n",
    "    for i in range(n):\n",
    "        for j in range(m):\n",
    "            if map[i][j] == 0:\n",
    "                dfs(i, j)\n",
    "                count += 1\n",
    "    \n",
    "    return count"
   ]
  },
  {
   "cell_type": "code",
   "execution_count": 4,
   "id": "6754eb2f",
   "metadata": {},
   "outputs": [
    {
     "data": {
      "text/plain": [
       "3"
      ]
     },
     "execution_count": 4,
     "metadata": {},
     "output_type": "execute_result"
    }
   ],
   "source": [
    "map = [[0, 0, 1, 1, 0],\n",
    "       [0, 0, 0, 1, 1],\n",
    "       [1, 1, 1, 1, 1],\n",
    "       [0, 0, 0, 0, 0]]\n",
    "\n",
    "num_drinks = fill_drinks(map)\n",
    "num_drinks"
   ]
  },
  {
   "cell_type": "markdown",
   "id": "415c0002",
   "metadata": {},
   "source": [
    "- Maze Runner"
   ]
  },
  {
   "cell_type": "code",
   "execution_count": 5,
   "id": "c7336703",
   "metadata": {},
   "outputs": [
    {
     "name": "stdout",
     "output_type": "stream",
     "text": [
      "5 6\n",
      "101010\n",
      "111111\n",
      "000001\n",
      "111111\n",
      "111111\n",
      "10\n"
     ]
    }
   ],
   "source": [
    "#BFS소스코드구현\n",
    "def bfs(x,y):\n",
    "#큐(Queue)구현을위해dedue라이브러리사용\n",
    "    queue = deque()\n",
    "    queue.append((x, y))\n",
    "#큐가빌때까지반복하기\n",
    "    while queue:\n",
    "        x, y = queue.popleft()\n",
    "        #현재위치에서4가지방향으로의위치확인 \n",
    "        for i in range(4):\n",
    "            nx = x + dx[i]\n",
    "            ny = y + dy[i]\n",
    "        #미로찾기공간을벗어난경우무시\n",
    "            if nx < 0 or nx >= n or ny < 0 or ny >= m:\n",
    "                continue\n",
    "            #벽인경우무시\n",
    "            if graph[nx][ny] == 0:\n",
    "                continue\n",
    "            #해당노드를처음방문하는경우에만최단거리기록\n",
    "            if graph[nx][ny] == 1:\n",
    "                graph[nx][ny] = graph[x][y] + 1\n",
    "                queue.append((nx, ny))\n",
    "            #가장오른쪽아래까지의최단거리반환\n",
    "    return graph[n - 1][m - 1]\n",
    "\n",
    "from collections import deque\n",
    "#N.M을공백을기준으로구분하여입력받기\n",
    "n, m = map(int, input().split())\n",
    "#2차원리스트의맵정보입력받기\n",
    "graph = []\n",
    "for i in range(n):\n",
    "    graph.append(list(map(int, input())))\n",
    "#이동할네가지방향정의(상,하,좌,우)\n",
    "dx = [-1, 1, 0, 0]\n",
    "dy = [0, 0, -1, 1]\n",
    "#BFS를수행한결과출력\n",
    "print(bfs(0, 0))"
   ]
  },
  {
   "cell_type": "code",
   "execution_count": 6,
   "id": "02edbc85",
   "metadata": {},
   "outputs": [
    {
     "name": "stdout",
     "output_type": "stream",
     "text": [
      "11\n"
     ]
    }
   ],
   "source": [
    "from collections import deque\n",
    "\n",
    "def bfs(maze):\n",
    "    n, m = len(maze), len(maze[0])\n",
    "    queue = deque([(0, 0)])\n",
    "    dx, dy = [-1, 1, 0, 0], [0, 0, -1, 1]\n",
    "    while queue:\n",
    "        x, y = queue.popleft()\n",
    "        for i in range(4):\n",
    "            nx, ny = x + dx[i], y + dy[i]\n",
    "            if nx < 0 or nx >= n or ny < 0 or ny >= m:\n",
    "                continue\n",
    "            if maze[nx][ny] == 0:\n",
    "                continue\n",
    "            if maze[nx][ny] == 1:\n",
    "                maze[nx][ny] = maze[x][y] + 1\n",
    "                queue.append((nx, ny))\n",
    "    return maze[n-1][m-1]\n",
    "\n",
    "# Example usage\n",
    "maze = [\n",
    "    [1, 0, 1, 1, 1],\n",
    "    [1, 0, 1, 0, 1],\n",
    "    [1, 0, 1, 1, 1],\n",
    "    [1, 1, 1, 0, 1],\n",
    "    [0, 0, 0, 0, 1]\n",
    "]\n",
    "print(bfs(maze)) # expected output: 11"
   ]
  },
  {
   "cell_type": "code",
   "execution_count": null,
   "id": "c20ddcb9",
   "metadata": {},
   "outputs": [],
   "source": []
  }
 ],
 "metadata": {
  "kernelspec": {
   "display_name": "Python 3 (ipykernel)",
   "language": "python",
   "name": "python3"
  },
  "language_info": {
   "codemirror_mode": {
    "name": "ipython",
    "version": 3
   },
   "file_extension": ".py",
   "mimetype": "text/x-python",
   "name": "python",
   "nbconvert_exporter": "python",
   "pygments_lexer": "ipython3",
   "version": "3.9.13"
  }
 },
 "nbformat": 4,
 "nbformat_minor": 5
}
