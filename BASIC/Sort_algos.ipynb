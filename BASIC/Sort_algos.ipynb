{
 "cells": [
  {
   "cell_type": "markdown",
   "id": "2a0c2417",
   "metadata": {},
   "source": [
    "# Sorting algos"
   ]
  },
  {
   "cell_type": "markdown",
   "id": "1e4fccc2",
   "metadata": {},
   "source": [
    "Sorting algorithms are a set of procedures used to arrange a list of items in a specific order, usually ascending or descending order. These algorithms are used in computer programming and data analysis to make it easier to locate and process specific pieces of data."
   ]
  },
  {
   "cell_type": "markdown",
   "id": "d8f039d4",
   "metadata": {},
   "source": [
    "- Importance"
   ]
  },
  {
   "cell_type": "markdown",
   "id": "244c23fc",
   "metadata": {},
   "source": [
    "Sorting algorithms are crucial in computer programming because they enable efficient searching and data retrieval. They allow you to quickly locate and extract specific data from a large dataset, which can be useful in various applications, such as data mining, financial analysis, and scientific research. Understanding sorting algorithms is also essential for computer science students as it is a fundamental concept in the field of computer science."
   ]
  },
  {
   "cell_type": "markdown",
   "id": "359af406",
   "metadata": {},
   "source": [
    "- E.g 1"
   ]
  },
  {
   "cell_type": "markdown",
   "id": "24ff68c1",
   "metadata": {},
   "source": [
    "For example, consider the list [5, 3, 1, 8, 4]. The bubble sort algorithm would start by comparing the first two elements and swapping them because 5 > 3. The list becomes [3, 5, 1, 8, 4]. The algorithm then compares the next two elements and swaps them because 5 > 1. The list becomes [3, 1, 5, 8, 4]. The algorithm continues to compare and swap elements until the list is fully sorted, which gives us [1, 3, 4, 5, 8]."
   ]
  },
  {
   "cell_type": "markdown",
   "id": "6ec9823a",
   "metadata": {},
   "source": [
    "- E.g 2"
   ]
  },
  {
   "cell_type": "markdown",
   "id": "32925b0c",
   "metadata": {},
   "source": [
    "For example, consider the list [6, 2, 7, 3, 1, 5, 8, 4]. The merge sort algorithm would start by dividing the list into two sublists: [6, 2, 7, 3] and [1, 5, 8, 4]. These sublists would then be further divided until each sublist contains only one element, and they are sorted. The sorted sublists are then merged back together in ascending order to form the final sorted list [1, 2, 3, 4, 5, 6, 7, 8]."
   ]
  },
  {
   "cell_type": "markdown",
   "id": "5f86427c",
   "metadata": {},
   "source": [
    "## codes"
   ]
  },
  {
   "cell_type": "markdown",
   "id": "bb6176e7",
   "metadata": {},
   "source": [
    "- Selection sort"
   ]
  },
  {
   "cell_type": "code",
   "execution_count": 1,
   "id": "e816246c",
   "metadata": {},
   "outputs": [],
   "source": [
    "array = [ 7, 5, 9, 0, 4, 1, 6, 2, 4, 8]"
   ]
  },
  {
   "cell_type": "code",
   "execution_count": 4,
   "id": "a2e6a264",
   "metadata": {},
   "outputs": [],
   "source": [
    "for i in range(len(array)):\n",
    "    min_index = i\n",
    "    for j in range(i + 1, len(array)):\n",
    "        if array[min_index] > array[j]:\n",
    "            min_index = j\n",
    "    array[i], array[min_index] = array[min_index], array[i]"
   ]
  },
  {
   "cell_type": "code",
   "execution_count": 5,
   "id": "9779b0f5",
   "metadata": {},
   "outputs": [
    {
     "data": {
      "text/plain": [
       "[0, 1, 2, 4, 4, 5, 6, 7, 8, 9]"
      ]
     },
     "execution_count": 5,
     "metadata": {},
     "output_type": "execute_result"
    }
   ],
   "source": [
    "array"
   ]
  },
  {
   "cell_type": "code",
   "execution_count": 6,
   "id": "ef648fe3",
   "metadata": {},
   "outputs": [],
   "source": [
    "def selection_sort(array):\n",
    "    for i in range(len(array)):\n",
    "        min_index = i\n",
    "        for j in range(i + 1, len(array)):\n",
    "            if array[min_index] > array[j]:\n",
    "                min_index = j\n",
    "        array[i], array[min_index] = array[min_index], array[i]\n",
    "    return array"
   ]
  },
  {
   "cell_type": "code",
   "execution_count": 7,
   "id": "2369316c",
   "metadata": {},
   "outputs": [
    {
     "data": {
      "text/plain": [
       "[0, 1, 2, 4, 4, 5, 6, 7, 8, 9]"
      ]
     },
     "execution_count": 7,
     "metadata": {},
     "output_type": "execute_result"
    }
   ],
   "source": [
    "selection_sort(array)"
   ]
  },
  {
   "cell_type": "markdown",
   "id": "1895dba2",
   "metadata": {},
   "source": [
    "- Insertion sort"
   ]
  },
  {
   "cell_type": "code",
   "execution_count": 9,
   "id": "4ec2af04",
   "metadata": {},
   "outputs": [],
   "source": [
    "for i in range(1, len(array)):\n",
    "    for j in range(i, 0, -1):\n",
    "        if array[j] < array[j - 1]:\n",
    "            array[j], array[j - 1] = array[j - 1], array[j]\n",
    "        else:\n",
    "            break"
   ]
  },
  {
   "cell_type": "code",
   "execution_count": 10,
   "id": "7902c7ff",
   "metadata": {},
   "outputs": [
    {
     "data": {
      "text/plain": [
       "[0, 1, 2, 4, 4, 5, 6, 7, 8, 9]"
      ]
     },
     "execution_count": 10,
     "metadata": {},
     "output_type": "execute_result"
    }
   ],
   "source": [
    "array"
   ]
  },
  {
   "cell_type": "code",
   "execution_count": 11,
   "id": "81389f45",
   "metadata": {},
   "outputs": [],
   "source": [
    "def insertion_sort(array):\n",
    "    for i in range(1, len(array)):\n",
    "        for j in range(i, 0, -1):\n",
    "            if array[j] < array[j - 1]:\n",
    "                array[j], array[j - 1] = array[j - 1], array[j]\n",
    "            else:\n",
    "                break\n",
    "    return array"
   ]
  },
  {
   "cell_type": "code",
   "execution_count": 12,
   "id": "91d477bd",
   "metadata": {},
   "outputs": [
    {
     "data": {
      "text/plain": [
       "[0, 1, 2, 4, 4, 5, 6, 7, 8, 9]"
      ]
     },
     "execution_count": 12,
     "metadata": {},
     "output_type": "execute_result"
    }
   ],
   "source": [
    "insertion_sort(array)"
   ]
  },
  {
   "cell_type": "markdown",
   "id": "ce1a35be",
   "metadata": {},
   "source": [
    "- Quick sort"
   ]
  },
  {
   "cell_type": "code",
   "execution_count": 13,
   "id": "809a503b",
   "metadata": {},
   "outputs": [],
   "source": [
    "array = [ 5, 7, 9, 0, 4, 1, 6, 2, 4, 8]"
   ]
  },
  {
   "cell_type": "code",
   "execution_count": 14,
   "id": "e6959715",
   "metadata": {},
   "outputs": [],
   "source": [
    "def quick_sort(array, start, end):\n",
    "    if start >= end:\n",
    "        return\n",
    "    pivot = start\n",
    "    left = start + 1\n",
    "    right = end\n",
    "    while(left <= right):\n",
    "        while(left <= end and array[left] <= array[pivot]):\n",
    "            left += 1\n",
    "        while(right > start and array[right] >= array[pivot]):\n",
    "            right -= 1\n",
    "        if(left > right):\n",
    "            array[right], array[pivot] = array[pivot], array[right]\n",
    "        else:\n",
    "            array[left], array[right] = array[right], array[left]\n",
    "    quick_sort(array, start, right -1)\n",
    "    quick_sort(array, right + 1, end)"
   ]
  },
  {
   "cell_type": "code",
   "execution_count": 15,
   "id": "fb690e29",
   "metadata": {},
   "outputs": [],
   "source": [
    "quick_sort(array, 0, len(array) - 1)"
   ]
  },
  {
   "cell_type": "code",
   "execution_count": 16,
   "id": "57b67a0a",
   "metadata": {},
   "outputs": [
    {
     "data": {
      "text/plain": [
       "[0, 1, 2, 4, 4, 5, 6, 7, 8, 9]"
      ]
     },
     "execution_count": 16,
     "metadata": {},
     "output_type": "execute_result"
    }
   ],
   "source": [
    "array"
   ]
  },
  {
   "cell_type": "code",
   "execution_count": 18,
   "id": "762ca0c8",
   "metadata": {},
   "outputs": [],
   "source": [
    "def quick_sort(array):\n",
    "    if len(array) <= 1:\n",
    "        return array\n",
    "    pivot = array[0]\n",
    "    tail = array[1:]\n",
    "    \n",
    "    left_side = [x for x in tail if x <= pivot]\n",
    "    right_side = [x for x in tail if x > pivot]\n",
    "    \n",
    "    return quick_sort(left_side) + [pivot] + quick_sort(right_side)"
   ]
  },
  {
   "cell_type": "code",
   "execution_count": 19,
   "id": "51d9f730",
   "metadata": {},
   "outputs": [
    {
     "data": {
      "text/plain": [
       "[0, 1, 2, 4, 4, 5, 6, 7, 8, 9]"
      ]
     },
     "execution_count": 19,
     "metadata": {},
     "output_type": "execute_result"
    }
   ],
   "source": [
    "quick_sort(array)"
   ]
  },
  {
   "cell_type": "markdown",
   "id": "489fbce0",
   "metadata": {},
   "source": [
    "- Count sort"
   ]
  },
  {
   "cell_type": "code",
   "execution_count": 20,
   "id": "a482d095",
   "metadata": {},
   "outputs": [],
   "source": [
    "array = [7, 5, 9, 0, 3, 1, 6, 2, 9, 1, 4, 8, 0 , 5, 2]"
   ]
  },
  {
   "cell_type": "code",
   "execution_count": 22,
   "id": "1b7b8bb1",
   "metadata": {},
   "outputs": [],
   "source": [
    "count = [0] * (max(array) + 1)"
   ]
  },
  {
   "cell_type": "code",
   "execution_count": 23,
   "id": "f91b6be4",
   "metadata": {},
   "outputs": [
    {
     "name": "stdout",
     "output_type": "stream",
     "text": [
      "0 0 1 1 2 2 3 4 5 5 6 7 8 9 9 "
     ]
    }
   ],
   "source": [
    "for i in range(len(array)):\n",
    "    count[array[i]] += 1\n",
    "    \n",
    "for i in range(len(count)):\n",
    "    for j in range(count[i]):\n",
    "        print(i, end=' ')"
   ]
  },
  {
   "cell_type": "code",
   "execution_count": 24,
   "id": "65ad75d9",
   "metadata": {},
   "outputs": [],
   "source": [
    "def counting_sort(array):\n",
    "    count = [0] * (max(array) + 1)\n",
    "    for i in range(len(array)):\n",
    "        count[array[i]] += 1\n",
    "    \n",
    "    sorted_array = []\n",
    "    for i in range(len(count)):\n",
    "        for j in range(count[i]):\n",
    "            sorted_array.append(i)\n",
    "    \n",
    "    return sorted_array"
   ]
  },
  {
   "cell_type": "code",
   "execution_count": 25,
   "id": "27f84f1b",
   "metadata": {},
   "outputs": [
    {
     "data": {
      "text/plain": [
       "[0, 0, 1, 1, 2, 2, 3, 4, 5, 5, 6, 7, 8, 9, 9]"
      ]
     },
     "execution_count": 25,
     "metadata": {},
     "output_type": "execute_result"
    }
   ],
   "source": [
    "counting_sort(array)"
   ]
  },
  {
   "cell_type": "markdown",
   "id": "f3af6349",
   "metadata": {},
   "source": [
    "- Q. Swap elements of two arrays"
   ]
  },
  {
   "cell_type": "code",
   "execution_count": 1,
   "id": "7154a8c8",
   "metadata": {},
   "outputs": [
    {
     "name": "stdout",
     "output_type": "stream",
     "text": [
      "5 3\n",
      "1 2 5 4 3\n",
      "5 5 6 6 5\n",
      "26\n"
     ]
    }
   ],
   "source": [
    "n, k = map(int, input().split())\n",
    "a = list(map(int, input().split()))\n",
    "b = list(map(int, input().split()))\n",
    "\n",
    "a.sort()\n",
    "b.sort(reverse = True)\n",
    "\n",
    "for i in range(k):\n",
    "    if a[i] < b[i]:\n",
    "        a[i], b[i] = b[i], a[i]\n",
    "    else:\n",
    "        break\n",
    "print(sum(a))"
   ]
  },
  {
   "cell_type": "code",
   "execution_count": 5,
   "id": "2f2ab6cb",
   "metadata": {},
   "outputs": [],
   "source": [
    "n = 5\n",
    "k = 3\n",
    "a = [1, 2, 5, 4, 3]\n",
    "b = [5, 5, 6, 6, 5]"
   ]
  },
  {
   "cell_type": "code",
   "execution_count": 6,
   "id": "e8c02442",
   "metadata": {},
   "outputs": [],
   "source": [
    "def max_sum(n, k, a, b):\n",
    "    a.sort()\n",
    "    b.sort(reverse = True)\n",
    "\n",
    "    for i in range(k):\n",
    "        if a[i] < b[i]:\n",
    "            a[i], b[i] = b[i], a[i]\n",
    "        else:\n",
    "            break\n",
    "    return sum(a)"
   ]
  },
  {
   "cell_type": "code",
   "execution_count": 7,
   "id": "e1c17ded",
   "metadata": {},
   "outputs": [
    {
     "name": "stdout",
     "output_type": "stream",
     "text": [
      "26\n"
     ]
    }
   ],
   "source": [
    "max_sum_val = max_sum(n, k, a, b)\n",
    "print(max_sum_val)"
   ]
  },
  {
   "cell_type": "code",
   "execution_count": null,
   "id": "77d4152d",
   "metadata": {},
   "outputs": [],
   "source": []
  }
 ],
 "metadata": {
  "kernelspec": {
   "display_name": "Python 3 (ipykernel)",
   "language": "python",
   "name": "python3"
  },
  "language_info": {
   "codemirror_mode": {
    "name": "ipython",
    "version": 3
   },
   "file_extension": ".py",
   "mimetype": "text/x-python",
   "name": "python",
   "nbconvert_exporter": "python",
   "pygments_lexer": "ipython3",
   "version": "3.9.13"
  }
 },
 "nbformat": 4,
 "nbformat_minor": 5
}
