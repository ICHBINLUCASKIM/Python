{
 "cells": [
  {
   "cell_type": "markdown",
   "id": "d4ee8f7b",
   "metadata": {},
   "source": [
    "# Greedy Algorithm"
   ]
  },
  {
   "cell_type": "markdown",
   "id": "7f9ac5e4",
   "metadata": {},
   "source": [
    "A greedy algorithm is an approach to problem-solving that makes the best decision at each step without considering the bigger picture. It focuses on immediate benefit and doesn't look ahead to see if the choices made will lead to the best overall outcome.\n",
    "\n"
   ]
  },
  {
   "cell_type": "markdown",
   "id": "c3262a32",
   "metadata": {},
   "source": [
    "A good way to think about it is like playing a game of chess. A greedy player might only focus on capturing as many pieces as possible in the short term, without thinking about the long-term strategy that could lead to victory. In contrast, a more strategic player would think ahead and plan their moves based on how they could ultimately win the game."
   ]
  },
  {
   "cell_type": "markdown",
   "id": "3ca9e79d",
   "metadata": {},
   "source": [
    "Similarly, a greedy algorithm might choose the option that seems the best at the moment, without considering if that choice will lead to the best overall solution. It's not always the most effective approach, but it can be useful in certain situations where you don't need to find the absolute best solution and just need a good enough one."
   ]
  },
  {
   "cell_type": "markdown",
   "id": "7fed4c6b",
   "metadata": {},
   "source": [
    "# Time complexity"
   ]
  },
  {
   "cell_type": "markdown",
   "id": "9d16071d",
   "metadata": {},
   "source": [
    "Time complexity is a measure of how long an algorithm takes to run as the size of the input data grows. It's a way of analyzing the efficiency of an algorithm in terms of the amount of time it takes to complete as the input size increases."
   ]
  },
  {
   "cell_type": "markdown",
   "id": "519c9ead",
   "metadata": {},
   "source": [
    "In general, time complexity is expressed as a function of the input size, denoted by \"n\". The time complexity function describes how the running time of the algorithm increases with the size of the input. For example, an algorithm with a time complexity of O(n) means that the running time increases linearly with the input size."
   ]
  },
  {
   "cell_type": "markdown",
   "id": "74a7831c",
   "metadata": {},
   "source": [
    "Time complexity is an important consideration when designing and analyzing algorithms, especially for large-scale applications where the input data size can be very large. By analyzing the time complexity of an algorithm, we can determine how well it will scale as the input size grows, and we can compare the efficiency of different algorithms for the same problem."
   ]
  },
  {
   "cell_type": "markdown",
   "id": "2edc6d0f",
   "metadata": {},
   "source": [
    "## Q1. Change"
   ]
  },
  {
   "cell_type": "markdown",
   "id": "38578898",
   "metadata": {},
   "source": [
    "You are a clerk in the restaurant. There are infinity 500, 100, 50, 10 won for the change.\n",
    "\n",
    "Write the code, minimum change for N won. N is always mutiples of 10."
   ]
  },
  {
   "cell_type": "code",
   "execution_count": 1,
   "id": "d50cc395",
   "metadata": {},
   "outputs": [],
   "source": [
    "n = 1260\n",
    "count = 0"
   ]
  },
  {
   "cell_type": "code",
   "execution_count": 2,
   "id": "85a7dd39",
   "metadata": {},
   "outputs": [],
   "source": [
    "array = [500, 100, 50, 10]"
   ]
  },
  {
   "cell_type": "code",
   "execution_count": 3,
   "id": "063adf4c",
   "metadata": {
    "scrolled": false
   },
   "outputs": [
    {
     "name": "stdout",
     "output_type": "stream",
     "text": [
      "6\n"
     ]
    }
   ],
   "source": [
    "for coin in array:\n",
    "    count += n // coin\n",
    "    n %= coin\n",
    "    \n",
    "print(count)"
   ]
  },
  {
   "cell_type": "markdown",
   "id": "24cb467f",
   "metadata": {},
   "source": [
    "The time complexity of this code is O(k), where k is the number of bills and coins in the array list."
   ]
  },
  {
   "cell_type": "markdown",
   "id": "4f29cc94",
   "metadata": {},
   "source": [
    "- We can make it as a function."
   ]
  },
  {
   "cell_type": "code",
   "execution_count": 4,
   "id": "5e7b0d7d",
   "metadata": {},
   "outputs": [],
   "source": [
    "def minimum_change(n):\n",
    "    bills = [500, 100, 50, 10] # list of available bills and coins\n",
    "    change = [] # list to store the change\n",
    "\n",
    "    for bill in bills:\n",
    "        while n >= bill:\n",
    "            n -= bill\n",
    "            change.append(bill)\n",
    "\n",
    "    return change"
   ]
  },
  {
   "cell_type": "code",
   "execution_count": 7,
   "id": "89fa15ee",
   "metadata": {},
   "outputs": [
    {
     "data": {
      "text/plain": [
       "[500, 500, 500, 100, 50, 10, 10, 10]"
      ]
     },
     "execution_count": 7,
     "metadata": {},
     "output_type": "execute_result"
    }
   ],
   "source": [
    "minimum_change(1680) # almost the same as Greedy algorithm. It counts bigger one first."
   ]
  },
  {
   "cell_type": "code",
   "execution_count": 9,
   "id": "dd1d04de",
   "metadata": {},
   "outputs": [
    {
     "data": {
      "text/plain": [
       "8"
      ]
     },
     "execution_count": 9,
     "metadata": {},
     "output_type": "execute_result"
    }
   ],
   "source": [
    "len(minimum_change(1680))"
   ]
  },
  {
   "cell_type": "markdown",
   "id": "74318521",
   "metadata": {},
   "source": [
    "The time complexity of this code is O(k), where k is the number of bills and coins in the bills list."
   ]
  },
  {
   "cell_type": "markdown",
   "id": "c8f1dc32",
   "metadata": {},
   "source": [
    "## Q2. The last reminder 1"
   ]
  },
  {
   "cell_type": "markdown",
   "id": "4abeaad8",
   "metadata": {},
   "source": [
    "1. N - 1\n",
    "2. N / k\n",
    "\n",
    "With this computation, keep computation until N change into the last reminder 1 and find the shortest way."
   ]
  },
  {
   "cell_type": "code",
   "execution_count": 28,
   "id": "ad5df405",
   "metadata": {
    "scrolled": true
   },
   "outputs": [
    {
     "name": "stdout",
     "output_type": "stream",
     "text": [
      "30 5\n"
     ]
    },
    {
     "data": {
      "text/plain": [
       "3"
      ]
     },
     "execution_count": 28,
     "metadata": {},
     "output_type": "execute_result"
    }
   ],
   "source": [
    "n, k = map(int, input().split())\n",
    "\n",
    "result = 0\n",
    "\n",
    "while True:\n",
    "    target = (n // k) * k\n",
    "    result += (n - target)\n",
    "    n = target\n",
    "    \n",
    "    if n < k:\n",
    "        break\n",
    "        \n",
    "    result += 1\n",
    "    n //= k\n",
    "    \n",
    "result += (n - 1)\n",
    "result"
   ]
  },
  {
   "cell_type": "markdown",
   "id": "4eb8b895",
   "metadata": {},
   "source": [
    "- function"
   ]
  },
  {
   "cell_type": "code",
   "execution_count": 26,
   "id": "4cbc8b3a",
   "metadata": {},
   "outputs": [],
   "source": [
    "def reduce_to_one(n, k=None):\n",
    "    count = 0\n",
    "    while n > 1:\n",
    "        if k is not None and n % k == 0:\n",
    "            n //= k\n",
    "        else:\n",
    "            n -= 1\n",
    "        count += 1\n",
    "    return count"
   ]
  },
  {
   "cell_type": "code",
   "execution_count": 27,
   "id": "96ea9646",
   "metadata": {},
   "outputs": [
    {
     "data": {
      "text/plain": [
       "3"
      ]
     },
     "execution_count": 27,
     "metadata": {},
     "output_type": "execute_result"
    }
   ],
   "source": [
    "reduce_to_one(30, 5)"
   ]
  },
  {
   "cell_type": "markdown",
   "id": "2ed62919",
   "metadata": {},
   "source": [
    "## Q3. add or multiplication"
   ]
  },
  {
   "cell_type": "markdown",
   "id": "1f90899d",
   "metadata": {},
   "source": [
    "Given a string S consisting of only digits, write a program to insert either the '*' or '+' operator between the digits one by one from left to right in order to find the largest possible resulting expression. Then, return the largest possible expression that can be created."
   ]
  },
  {
   "cell_type": "code",
   "execution_count": 29,
   "id": "a04661da",
   "metadata": {},
   "outputs": [
    {
     "name": "stdout",
     "output_type": "stream",
     "text": [
      "07782\n"
     ]
    },
    {
     "data": {
      "text/plain": [
       "784"
      ]
     },
     "execution_count": 29,
     "metadata": {},
     "output_type": "execute_result"
    }
   ],
   "source": [
    "data = input()\n",
    "\n",
    "result = int(data[0])\n",
    "\n",
    "for i in range(1, len(data)):\n",
    "    num = int(data[i])\n",
    "    if num <= 1 or result <= 1:\n",
    "        result += num\n",
    "    else:\n",
    "        result *= num\n",
    "        \n",
    "result"
   ]
  },
  {
   "cell_type": "markdown",
   "id": "bcd8d5bf",
   "metadata": {},
   "source": [
    "- function"
   ]
  },
  {
   "cell_type": "code",
   "execution_count": 38,
   "id": "2b044c22",
   "metadata": {},
   "outputs": [],
   "source": [
    "def calculate_result():\n",
    "    data = input()\n",
    "    result = int(data[0])\n",
    "    for i in range(1, len(data)):\n",
    "        num = int(data[i])\n",
    "        if num <= 1 or result <= 1:\n",
    "            result += num\n",
    "        else:\n",
    "            result *= num\n",
    "    return result"
   ]
  },
  {
   "cell_type": "code",
   "execution_count": 39,
   "id": "aae66d80",
   "metadata": {},
   "outputs": [
    {
     "name": "stdout",
     "output_type": "stream",
     "text": [
      "07782\n"
     ]
    },
    {
     "data": {
      "text/plain": [
       "784"
      ]
     },
     "execution_count": 39,
     "metadata": {},
     "output_type": "execute_result"
    }
   ],
   "source": [
    "calculate_result()"
   ]
  },
  {
   "cell_type": "markdown",
   "id": "41e6f509",
   "metadata": {},
   "source": [
    "## Q4. A fearful traveler"
   ]
  },
  {
   "cell_type": "markdown",
   "id": "df84071c",
   "metadata": {},
   "source": [
    "When the fear factor of an adventurer is X, it is mandatory for the adventurer to participate in an adventurer group consisting of at least X people in order to go on a trip. Write a program to find the maximum number of groups that can go on a trip, given the information of N adventurers."
   ]
  },
  {
   "cell_type": "code",
   "execution_count": 43,
   "id": "1c171dcc",
   "metadata": {
    "scrolled": true
   },
   "outputs": [
    {
     "name": "stdout",
     "output_type": "stream",
     "text": [
      "7\n",
      "5 4 3 4 3 2 1\n"
     ]
    },
    {
     "data": {
      "text/plain": [
       "2"
      ]
     },
     "execution_count": 43,
     "metadata": {},
     "output_type": "execute_result"
    }
   ],
   "source": [
    "n = int(input())\n",
    "data = list(map(int, input().split()))\n",
    "data.sort()\n",
    "\n",
    "result = 0 # a number of groups\n",
    "count = 0 # \n",
    "\n",
    "for i in data:\n",
    "    count += 1\n",
    "    if count >= i:\n",
    "        result += 1\n",
    "        count = 0\n",
    "        \n",
    "result"
   ]
  },
  {
   "cell_type": "markdown",
   "id": "273905ef",
   "metadata": {},
   "source": [
    "- function"
   ]
  },
  {
   "cell_type": "code",
   "execution_count": 41,
   "id": "f9f95211",
   "metadata": {},
   "outputs": [],
   "source": [
    "def calculate_groups():\n",
    "    \n",
    "    n = int(input())\n",
    "    data = list(map(int, input().split()))\n",
    "    data.sort()\n",
    "    result = 0  # a number of groups\n",
    "    count = 0  # counter\n",
    "\n",
    "    for i in data:\n",
    "        count += 1\n",
    "        if count >= i:\n",
    "            result += 1\n",
    "            count = 0\n",
    "\n",
    "    return result"
   ]
  },
  {
   "cell_type": "code",
   "execution_count": 42,
   "id": "a65bfb50",
   "metadata": {},
   "outputs": [
    {
     "name": "stdout",
     "output_type": "stream",
     "text": [
      "7\n",
      "5 4 3 4 3 2 1\n"
     ]
    },
    {
     "data": {
      "text/plain": [
       "2"
      ]
     },
     "execution_count": 42,
     "metadata": {},
     "output_type": "execute_result"
    }
   ],
   "source": [
    "calculate_groups()"
   ]
  },
  {
   "cell_type": "markdown",
   "id": "0b077d01",
   "metadata": {},
   "source": [
    "# Implementation"
   ]
  },
  {
   "cell_type": "markdown",
   "id": "d883b024",
   "metadata": {},
   "source": [
    "In software development, implementation typically involves writing code to bring a software design or specification to life. This can include activities such as writing algorithms, defining data structures, and writing code that performs specific functions.\n",
    "\n",
    "Implementation can also refer to the process of installing or deploying a software program or system, such as setting up a new application on a server or installing a new piece of hardware on a computer.\n",
    "\n",
    "Overall, implementation is the process of turning an idea or plan into a tangible reality through a series of practical steps and actions."
   ]
  },
  {
   "cell_type": "markdown",
   "id": "e2904930",
   "metadata": {},
   "source": [
    "Generally, in algorithmic problems, the 2-dimensional space is generally used in the meaning of a matrix."
   ]
  },
  {
   "cell_type": "markdown",
   "id": "08d1afd6",
   "metadata": {},
   "source": [
    "In simulation and exhaustive search problems, direction vectors in 2-dimensional space are frequently used."
   ]
  },
  {
   "cell_type": "markdown",
   "id": "935505f3",
   "metadata": {},
   "source": [
    "## Q5. LRUD"
   ]
  },
  {
   "cell_type": "markdown",
   "id": "fa4806ff",
   "metadata": {},
   "source": [
    "The upper left coordinate is (1, 1) and the lower right coordinate is (N, N). You can move one square at a time in the up, down, left, and right directions, and the starting coordinate is always (1, 1). Write a program to determine the shortest distance to a specific point within (N, N)"
   ]
  },
  {
   "cell_type": "code",
   "execution_count": 58,
   "id": "a8433732",
   "metadata": {},
   "outputs": [
    {
     "name": "stdout",
     "output_type": "stream",
     "text": [
      "5\n",
      "R R R U D D\n"
     ]
    },
    {
     "data": {
      "text/plain": [
       "(3, 1)"
      ]
     },
     "execution_count": 58,
     "metadata": {},
     "output_type": "execute_result"
    }
   ],
   "source": [
    "n = int(input()) # Ex. 5\n",
    "x, y = 1, 1\n",
    "plans = input().split() # Ex. R R R U D D\n",
    "\n",
    "# L, R, U, D\n",
    "dx = [0, 0, -1, 1]\n",
    "dy = [-1, 1, 0, 0]\n",
    "move_types = ['L', 'R', 'U', 'D']\n",
    "\n",
    "for plan in plans:\n",
    "    for i in range(len(move_types)):\n",
    "        if plan == move_types[i]:\n",
    "            nx = x + dx[i]\n",
    "            ny = y + dy[i]\n",
    "        else:\n",
    "            nx = x\n",
    "            ny = y\n",
    "    if nx < 1 or ny < 1 or nx > n or ny > n: # the next move is within the boundaries\n",
    "        continue\n",
    "    x, y = nx, ny\n",
    "    \n",
    "x, y"
   ]
  },
  {
   "cell_type": "markdown",
   "id": "98d6bcb2",
   "metadata": {},
   "source": [
    "- function"
   ]
  },
  {
   "cell_type": "code",
   "execution_count": 59,
   "id": "aac23fbb",
   "metadata": {},
   "outputs": [],
   "source": [
    "def get_final_coordinate(n, plans):\n",
    "    x, y = 1, 1\n",
    "\n",
    "    # L, R, U, D\n",
    "    dx = [0, 0, -1, 1]\n",
    "    dy = [-1, 1, 0, 0]\n",
    "    move_types = ['L', 'R', 'U', 'D']\n",
    "\n",
    "    for plan in plans:\n",
    "        for i in range(len(move_types)):\n",
    "            if plan == move_types[i]:\n",
    "                nx = x + dx[i]\n",
    "                ny = y + dy[i]\n",
    "            else:\n",
    "                nx = x\n",
    "                ny = y\n",
    "        if nx < 1 or ny < 1 or nx > n or ny > n: # the next move is within the boundaries\n",
    "            continue\n",
    "        x, y = nx, ny\n",
    "    \n",
    "    return x, y"
   ]
  },
  {
   "cell_type": "code",
   "execution_count": 61,
   "id": "d3281432",
   "metadata": {},
   "outputs": [
    {
     "data": {
      "text/plain": [
       "(3, 1)"
      ]
     },
     "execution_count": 61,
     "metadata": {},
     "output_type": "execute_result"
    }
   ],
   "source": [
    "get_final_coordinate(5, 'R R R U D D')"
   ]
  },
  {
   "cell_type": "markdown",
   "id": "ebdf043a",
   "metadata": {},
   "source": [
    "- BFS"
   ]
  },
  {
   "cell_type": "markdown",
   "id": "c55193b9",
   "metadata": {},
   "source": [
    "The function takes in three arguments: N is the size of the grid, x and y are the coordinates of the target point. The function uses a breadth-first search (BFS) algorithm to explore the grid and calculate the shortest distance to the target point. The function returns the shortest distance if the target point is reachable, or -1 if it is not reachable from the starting point."
   ]
  },
  {
   "cell_type": "markdown",
   "id": "8adff467",
   "metadata": {},
   "source": [
    "The route variable is a 2D array that stores the route taken to reach each cell. It is initialized with empty strings and updated each time a neighboring cell is visited. The route to the target point is returned along with the distance."
   ]
  },
  {
   "cell_type": "code",
   "execution_count": 62,
   "id": "ea0986cb",
   "metadata": {},
   "outputs": [],
   "source": [
    "from queue import Queue\n",
    "\n",
    "def shortest_distance(N, x, y):\n",
    "    # Define the directions for moving up, down, left, and right\n",
    "    dx = [-1, 0, 1, 0]\n",
    "    dy = [0, 1, 0, -1]\n",
    "    move_types = ['U', 'R', 'D', 'L']\n",
    "\n",
    "    # Create a grid to keep track of visited cells and distances\n",
    "    visited = [[False] * N for _ in range(N)]\n",
    "    distance = [[0] * N for _ in range(N)]\n",
    "    route = [[''] * N for _ in range(N)]\n",
    "\n",
    "    # Initialize a queue for BFS\n",
    "    q = Queue()\n",
    "    q.put((0, 0))\n",
    "\n",
    "    # Mark the starting cell as visited and set its distance to zero\n",
    "    visited[0][0] = True\n",
    "\n",
    "    # Perform BFS to explore the grid and calculate distances\n",
    "    while not q.empty():\n",
    "        curr_x, curr_y = q.get()\n",
    "\n",
    "        # Check if the target point has been reached\n",
    "        if curr_x == x - 1 and curr_y == y - 1:\n",
    "            return distance[curr_x][curr_y], route[curr_x][curr_y]\n",
    "\n",
    "        # Explore neighboring cells\n",
    "        for i in range(4):\n",
    "            new_x = curr_x + dx[i]\n",
    "            new_y = curr_y + dy[i]\n",
    "\n",
    "            # Check if the neighboring cell is within the grid\n",
    "            if new_x >= 0 and new_x < N and new_y >= 0 and new_y < N:\n",
    "\n",
    "                # Check if the neighboring cell has not been visited\n",
    "                if not visited[new_x][new_y]:\n",
    "                    visited[new_x][new_y] = True\n",
    "                    distance[new_x][new_y] = distance[curr_x][curr_y] + 1\n",
    "                    route[new_x][new_y] = route[curr_x][curr_y] + move_types[i]\n",
    "                    q.put((new_x, new_y))\n",
    "                    \n",
    "    # If the target point is not reachable, return -1\n",
    "    return -1, ''"
   ]
  },
  {
   "cell_type": "code",
   "execution_count": 63,
   "id": "92bd6181",
   "metadata": {},
   "outputs": [
    {
     "data": {
      "text/plain": [
       "(3, 'RRD')"
      ]
     },
     "execution_count": 63,
     "metadata": {},
     "output_type": "execute_result"
    }
   ],
   "source": [
    "shortest_distance(5, 2, 3)"
   ]
  },
  {
   "cell_type": "markdown",
   "id": "d4502d47",
   "metadata": {},
   "source": [
    "## Q6. 3 in your life-time"
   ]
  },
  {
   "cell_type": "markdown",
   "id": "1ad284fe",
   "metadata": {},
   "source": [
    "- Bruete Forcing"
   ]
  },
  {
   "cell_type": "markdown",
   "id": "9ad155ba",
   "metadata": {},
   "source": [
    "Write a program that counts the number of all possible cases where the digit 3 appears at least once in the time from 00:00:00 to N:59:59, where N is an integer input."
   ]
  },
  {
   "cell_type": "code",
   "execution_count": 65,
   "id": "0c30c7f5",
   "metadata": {},
   "outputs": [
    {
     "name": "stdout",
     "output_type": "stream",
     "text": [
      "12\n"
     ]
    },
    {
     "data": {
      "text/plain": [
       "22500"
      ]
     },
     "execution_count": 65,
     "metadata": {},
     "output_type": "execute_result"
    }
   ],
   "source": [
    "h = int(input())\n",
    "\n",
    "count = 0\n",
    "for i in range(h + 1):\n",
    "    for j in range(60):\n",
    "        for k in range(60):\n",
    "            if '3' in str(i) + str(j) + str(k):\n",
    "                count += 1\n",
    "count"
   ]
  },
  {
   "cell_type": "markdown",
   "id": "75dabe82",
   "metadata": {},
   "source": [
    "- function"
   ]
  },
  {
   "cell_type": "code",
   "execution_count": 66,
   "id": "644cb589",
   "metadata": {},
   "outputs": [],
   "source": [
    "def count_3_digits(N):\n",
    "    count = 0\n",
    "\n",
    "    # Iterate over all possible times from 00:00:00 to N:59:59\n",
    "    for h in range(N+1):\n",
    "        for m in range(60):\n",
    "            for s in range(60):\n",
    "                # Check if the digit 3 appears in any of the time components\n",
    "                if '3' in str(h) or '3' in str(m) or '3' in str(s):\n",
    "                    count += 1\n",
    "\n",
    "    return count"
   ]
  },
  {
   "cell_type": "code",
   "execution_count": 67,
   "id": "3f815e4e",
   "metadata": {},
   "outputs": [
    {
     "name": "stdout",
     "output_type": "stream",
     "text": [
      "Enter the value of N: 12\n",
      "The number of times the digit 3 appears from 00:00:00 to 12:59:59 is 22500.\n"
     ]
    }
   ],
   "source": [
    "N = int(input(\"Enter the value of N: \"))\n",
    "count = count_3_digits(N)\n",
    "print(f\"The number of times the digit 3 appears from 00:00:00 to {N}:59:59 is {count}.\")"
   ]
  },
  {
   "cell_type": "markdown",
   "id": "ac87efe3",
   "metadata": {},
   "source": [
    "## Q7. Knight on Chessboard"
   ]
  },
  {
   "cell_type": "markdown",
   "id": "c07d0214",
   "metadata": {},
   "source": [
    "Given a chessboard of size 8 by 8 and the position of a knight on the board represented by a row number (1-8) and a column letter (a-h), write a program that outputs the number of possible moves the knight can make from that position. For example, if the knight is at c2, the program should output 6 possible moves."
   ]
  },
  {
   "cell_type": "code",
   "execution_count": 103,
   "id": "eb281b3f",
   "metadata": {},
   "outputs": [
    {
     "name": "stdout",
     "output_type": "stream",
     "text": [
      "c3\n"
     ]
    },
    {
     "data": {
      "text/plain": [
       "8"
      ]
     },
     "execution_count": 103,
     "metadata": {},
     "output_type": "execute_result"
    }
   ],
   "source": [
    "input_df = input()\n",
    "row = int(input_df[1])\n",
    "column = int(ord(input_df[0])) - int(ord('a')) + 1\n",
    "\n",
    "steps = [(-2, -1), (-1, -2), (1, -2), (2, -1), (2, 1), (1, 2), (-1, 2), (2, 1)]\n",
    "\n",
    "result = 0\n",
    "for step in steps:\n",
    "    next_row = row + step[0]\n",
    "    next_column = column + step[1]\n",
    "    \n",
    "    if next_row >= 1 and next_row <= 8 and next_column >= 1 and next_column <= 8:\n",
    "        result += 1\n",
    "        \n",
    "result"
   ]
  },
  {
   "cell_type": "markdown",
   "id": "2d4c917c",
   "metadata": {},
   "source": [
    "- function"
   ]
  },
  {
   "cell_type": "code",
   "execution_count": 105,
   "id": "a7184299",
   "metadata": {},
   "outputs": [],
   "source": [
    "def count_knight_moves(row, col):\n",
    "    col_num = ord(col) - ord('a') + 1\n",
    "    moves = 0\n",
    "    for i, j in [(1,2), (2,1), (2,-1), (1,-2), (-1,-2), (-2,-1), (-2,1), (-1,2)]:\n",
    "        if row + i >= 1 and row + i <= 8 and col_num + j >= 1 and col_num + j <= 8:\n",
    "            moves += 1\n",
    "    return moves"
   ]
  },
  {
   "cell_type": "code",
   "execution_count": 106,
   "id": "ab080b59",
   "metadata": {},
   "outputs": [
    {
     "name": "stdout",
     "output_type": "stream",
     "text": [
      "The knight at c3 can make 8 moves.\n"
     ]
    }
   ],
   "source": [
    "# Example usage:\n",
    "row = 3\n",
    "col = 'c'\n",
    "moves = count_knight_moves(row, col)\n",
    "print(f\"The knight at {col}{row} can make {moves} moves.\")"
   ]
  },
  {
   "cell_type": "markdown",
   "id": "456b0126",
   "metadata": {},
   "source": [
    "## Q8. Ascending, descending"
   ]
  },
  {
   "cell_type": "markdown",
   "id": "df5fd0bc",
   "metadata": {},
   "source": [
    "Given a string composed of uppercase letters and numbers (0-9), sort all the letters in ascending order, and then concatenate them with the sum of all the numbers in the string.\n",
    "\n",
    "For example, if the input is \"K1KA5CB7\", the output should be \"ABCKK13\"."
   ]
  },
  {
   "cell_type": "code",
   "execution_count": 1,
   "id": "325a077f",
   "metadata": {},
   "outputs": [
    {
     "name": "stdout",
     "output_type": "stream",
     "text": [
      "K1KA5CB7\n",
      "ABCKK13\n"
     ]
    }
   ],
   "source": [
    "df = input()\n",
    "result = []\n",
    "value = 0\n",
    "\n",
    "for x in df:\n",
    "    if x.isalpha():\n",
    "        result.append(x)\n",
    "    else:\n",
    "        value += int(x)\n",
    "result.sort()\n",
    "\n",
    "if value != 0:\n",
    "    result.append(str(value))\n",
    "    \n",
    "print(''.join(result))"
   ]
  },
  {
   "cell_type": "markdown",
   "id": "f173e4bb",
   "metadata": {},
   "source": [
    "- function"
   ]
  },
  {
   "cell_type": "code",
   "execution_count": 2,
   "id": "d5285dc6",
   "metadata": {},
   "outputs": [],
   "source": [
    "def sort_string(input_str):\n",
    "    # separate letters and numbers\n",
    "    letters = []\n",
    "    numbers = []\n",
    "    for char in input_str:\n",
    "        if char.isdigit():\n",
    "            numbers.append(int(char))\n",
    "        else:\n",
    "            letters.append(char)\n",
    "\n",
    "    # sort the letters\n",
    "    letters.sort()\n",
    "\n",
    "    # concatenate the sorted letters and sum of numbers\n",
    "    result = ''.join(letters) + str(sum(numbers))\n",
    "\n",
    "    return result"
   ]
  },
  {
   "cell_type": "code",
   "execution_count": 3,
   "id": "95546b29",
   "metadata": {},
   "outputs": [
    {
     "name": "stdout",
     "output_type": "stream",
     "text": [
      "ABCKK13\n"
     ]
    }
   ],
   "source": [
    "input_str = \"K1KA5CB7\"\n",
    "result = sort_string(input_str)\n",
    "print(result)  # Output: \"ABCKK13\""
   ]
  },
  {
   "cell_type": "code",
   "execution_count": null,
   "id": "d09585c8",
   "metadata": {},
   "outputs": [],
   "source": []
  }
 ],
 "metadata": {
  "kernelspec": {
   "display_name": "Python 3 (ipykernel)",
   "language": "python",
   "name": "python3"
  },
  "language_info": {
   "codemirror_mode": {
    "name": "ipython",
    "version": 3
   },
   "file_extension": ".py",
   "mimetype": "text/x-python",
   "name": "python",
   "nbconvert_exporter": "python",
   "pygments_lexer": "ipython3",
   "version": "3.9.13"
  }
 },
 "nbformat": 4,
 "nbformat_minor": 5
}
